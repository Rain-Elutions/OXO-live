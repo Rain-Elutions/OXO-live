{
 "cells": [
  {
   "cell_type": "code",
   "execution_count": 1,
   "id": "ff4aa3e8-e909-41d1-a981-92d6f04576ba",
   "metadata": {},
   "outputs": [],
   "source": [
    "import pandas as pd\n",
    "import numpy as np\n",
    "import matplotlib.pyplot as plt\n",
    "from sklearn.model_selection import train_test_split\n",
    "from xgboost import XGBRegressor\n",
    "import pickle\n",
    "\n",
    "from utils.util import read_yaml\n",
    "from box import Box\n",
    "\n",
    "from utils.eda_tools import select_good_period, single_column_vis\n",
    "import warnings\n",
    "warnings.filterwarnings('ignore')"
   ]
  },
  {
   "attachments": {},
   "cell_type": "markdown",
   "id": "d68c935d",
   "metadata": {},
   "source": [
    "#### Load Data"
   ]
  },
  {
   "cell_type": "code",
   "execution_count": 86,
   "id": "4cafacb7",
   "metadata": {},
   "outputs": [],
   "source": [
    "cfg = Box(read_yaml('../src/conf/config.yaml'))\n",
    "Config = Box(read_yaml('../src/conf/baseline.yaml'))"
   ]
  },
  {
   "cell_type": "code",
   "execution_count": 3,
   "id": "29f145ca-a22b-4013-8d6f-b255abe526c3",
   "metadata": {},
   "outputs": [],
   "source": [
    "# df = pd.read_csv(Config.data.raw_file_path, index_col=0, parse_dates=[0])\n",
    "\n",
    "# selected_tags = pd.read_csv(Config.data.output_selected_tag_path, index_col=0)\n",
    "# selected_tags = selected_tags[~selected_tags.Tags.isin(Config.preprocessing.remove_unwanted_cv.parameters.columns)]\n",
    "\n",
    "# ctrl_tag = list(selected_tags.query('Control==\"Yes\"').Tags.values)\n",
    "# ind_tag = list(selected_tags.query('Control!=\"Yes\"').Tags.values)\n",
    "\n",
    "# df = df[ctrl_tag+ind_tag+[Config.target]]\n",
    "\n",
    "# # Remove Shutdown\n",
    "# df = df.query(f'`{Config.preprocessing.remove_shutdown_period.parameters.column}`{Config.preprocessing.remove_shutdown_period.parameters.operator}{Config.preprocessing.remove_shutdown_period.parameters.threshold}')"
   ]
  },
  {
   "cell_type": "code",
   "execution_count": 7,
   "id": "5c1b0970",
   "metadata": {},
   "outputs": [],
   "source": [
    "df_path = cfg.path.processed_data\n",
    "df = pd.read_csv(df_path, parse_dates=['Date'], index_col=0)"
   ]
  },
  {
   "cell_type": "code",
   "execution_count": 8,
   "id": "561c5e30",
   "metadata": {},
   "outputs": [
    {
     "data": {
      "text/plain": [
       "(26032, 59)"
      ]
     },
     "execution_count": 8,
     "metadata": {},
     "output_type": "execute_result"
    }
   ],
   "source": [
    "df.shape"
   ]
  },
  {
   "cell_type": "code",
   "execution_count": 9,
   "id": "65ec3d83",
   "metadata": {},
   "outputs": [
    {
     "data": {
      "text/html": [
       "<div>\n",
       "<style scoped>\n",
       "    .dataframe tbody tr th:only-of-type {\n",
       "        vertical-align: middle;\n",
       "    }\n",
       "\n",
       "    .dataframe tbody tr th {\n",
       "        vertical-align: top;\n",
       "    }\n",
       "\n",
       "    .dataframe thead th {\n",
       "        text-align: right;\n",
       "    }\n",
       "</style>\n",
       "<table border=\"1\" class=\"dataframe\">\n",
       "  <thead>\n",
       "    <tr style=\"text-align: right;\">\n",
       "      <th></th>\n",
       "      <th>OXO-5FI696 Augusta</th>\n",
       "      <th>OXO-5FIC600 Augusta</th>\n",
       "      <th>OXO-5FIC601 Augusta</th>\n",
       "      <th>OXO-5FIC612A Augusta</th>\n",
       "      <th>OXO-5FIC612B Augusta</th>\n",
       "      <th>OXO-5FI635C Augusta</th>\n",
       "      <th>OXO-5FI661A Augusta</th>\n",
       "      <th>OXO-5FIC132 Augusta</th>\n",
       "      <th>OXO-5FIC602 Augusta</th>\n",
       "      <th>OXO-5FIC603 Augusta</th>\n",
       "      <th>...</th>\n",
       "      <th>OXO-5TIC604 Augusta</th>\n",
       "      <th>OXO-5TIC605 Augusta</th>\n",
       "      <th>OXO-5TIC606 Augusta</th>\n",
       "      <th>OXO-5TIC607 Augusta</th>\n",
       "      <th>OXO-5TIC659 Augusta</th>\n",
       "      <th>OXO-_5FI658A Augusta</th>\n",
       "      <th>OXO-_5FI659A Augusta</th>\n",
       "      <th>OXO-_5FI660A Augusta</th>\n",
       "      <th>OXO-_5FI662A Augusta</th>\n",
       "      <th>kpi1</th>\n",
       "    </tr>\n",
       "    <tr>\n",
       "      <th>Date</th>\n",
       "      <th></th>\n",
       "      <th></th>\n",
       "      <th></th>\n",
       "      <th></th>\n",
       "      <th></th>\n",
       "      <th></th>\n",
       "      <th></th>\n",
       "      <th></th>\n",
       "      <th></th>\n",
       "      <th></th>\n",
       "      <th></th>\n",
       "      <th></th>\n",
       "      <th></th>\n",
       "      <th></th>\n",
       "      <th></th>\n",
       "      <th></th>\n",
       "      <th></th>\n",
       "      <th></th>\n",
       "      <th></th>\n",
       "      <th></th>\n",
       "      <th></th>\n",
       "    </tr>\n",
       "  </thead>\n",
       "  <tbody>\n",
       "    <tr>\n",
       "      <th>2019-11-01 00:00:00</th>\n",
       "      <td>9830.200195</td>\n",
       "      <td>2076.174093</td>\n",
       "      <td>67.208298</td>\n",
       "      <td>0.009363</td>\n",
       "      <td>8.997839</td>\n",
       "      <td>5859.125648</td>\n",
       "      <td>23345.857389</td>\n",
       "      <td>4.450549</td>\n",
       "      <td>5069.174366</td>\n",
       "      <td>0.0</td>\n",
       "      <td>...</td>\n",
       "      <td>130.578919</td>\n",
       "      <td>133.007764</td>\n",
       "      <td>134.032267</td>\n",
       "      <td>130.899539</td>\n",
       "      <td>298.029910</td>\n",
       "      <td>21719.630615</td>\n",
       "      <td>22870.976318</td>\n",
       "      <td>22026.824772</td>\n",
       "      <td>22036.315560</td>\n",
       "      <td>0.881586</td>\n",
       "    </tr>\n",
       "    <tr>\n",
       "      <th>2019-11-01 01:00:00</th>\n",
       "      <td>9384.632992</td>\n",
       "      <td>2070.199284</td>\n",
       "      <td>67.204392</td>\n",
       "      <td>0.008853</td>\n",
       "      <td>9.000415</td>\n",
       "      <td>5950.173837</td>\n",
       "      <td>23346.553467</td>\n",
       "      <td>4.410112</td>\n",
       "      <td>5068.014148</td>\n",
       "      <td>0.0</td>\n",
       "      <td>...</td>\n",
       "      <td>130.640505</td>\n",
       "      <td>132.966600</td>\n",
       "      <td>134.035076</td>\n",
       "      <td>130.849780</td>\n",
       "      <td>298.084330</td>\n",
       "      <td>21727.622575</td>\n",
       "      <td>22879.205452</td>\n",
       "      <td>22042.948193</td>\n",
       "      <td>22056.644971</td>\n",
       "      <td>0.841922</td>\n",
       "    </tr>\n",
       "    <tr>\n",
       "      <th>2019-11-01 02:00:00</th>\n",
       "      <td>9233.277262</td>\n",
       "      <td>2067.933828</td>\n",
       "      <td>67.031974</td>\n",
       "      <td>0.009193</td>\n",
       "      <td>8.999083</td>\n",
       "      <td>6379.102250</td>\n",
       "      <td>23430.336545</td>\n",
       "      <td>4.285714</td>\n",
       "      <td>5069.603650</td>\n",
       "      <td>0.0</td>\n",
       "      <td>...</td>\n",
       "      <td>130.675602</td>\n",
       "      <td>133.035094</td>\n",
       "      <td>134.001994</td>\n",
       "      <td>130.743083</td>\n",
       "      <td>297.930878</td>\n",
       "      <td>21836.766659</td>\n",
       "      <td>22970.057215</td>\n",
       "      <td>22156.774258</td>\n",
       "      <td>22105.218684</td>\n",
       "      <td>0.828599</td>\n",
       "    </tr>\n",
       "    <tr>\n",
       "      <th>2019-11-01 03:00:00</th>\n",
       "      <td>9223.139014</td>\n",
       "      <td>2062.488529</td>\n",
       "      <td>66.808810</td>\n",
       "      <td>0.009306</td>\n",
       "      <td>8.997776</td>\n",
       "      <td>6337.343084</td>\n",
       "      <td>23384.694743</td>\n",
       "      <td>4.775281</td>\n",
       "      <td>5061.608939</td>\n",
       "      <td>0.0</td>\n",
       "      <td>...</td>\n",
       "      <td>130.613462</td>\n",
       "      <td>133.000552</td>\n",
       "      <td>133.979115</td>\n",
       "      <td>130.760757</td>\n",
       "      <td>298.052583</td>\n",
       "      <td>21783.450505</td>\n",
       "      <td>22920.952018</td>\n",
       "      <td>22088.356950</td>\n",
       "      <td>22064.178402</td>\n",
       "      <td>0.828199</td>\n",
       "    </tr>\n",
       "    <tr>\n",
       "      <th>2019-11-01 04:00:00</th>\n",
       "      <td>9104.168620</td>\n",
       "      <td>2055.162223</td>\n",
       "      <td>66.354369</td>\n",
       "      <td>0.009023</td>\n",
       "      <td>8.998597</td>\n",
       "      <td>6183.590302</td>\n",
       "      <td>23357.085677</td>\n",
       "      <td>4.388889</td>\n",
       "      <td>5004.132636</td>\n",
       "      <td>0.0</td>\n",
       "      <td>...</td>\n",
       "      <td>130.614549</td>\n",
       "      <td>133.004748</td>\n",
       "      <td>134.000492</td>\n",
       "      <td>130.814450</td>\n",
       "      <td>298.039928</td>\n",
       "      <td>21748.715137</td>\n",
       "      <td>22895.312126</td>\n",
       "      <td>22073.622298</td>\n",
       "      <td>22053.480892</td>\n",
       "      <td>0.818048</td>\n",
       "    </tr>\n",
       "  </tbody>\n",
       "</table>\n",
       "<p>5 rows × 59 columns</p>\n",
       "</div>"
      ],
      "text/plain": [
       "                     OXO-5FI696 Augusta  OXO-5FIC600 Augusta   \n",
       "Date                                                           \n",
       "2019-11-01 00:00:00         9830.200195          2076.174093  \\\n",
       "2019-11-01 01:00:00         9384.632992          2070.199284   \n",
       "2019-11-01 02:00:00         9233.277262          2067.933828   \n",
       "2019-11-01 03:00:00         9223.139014          2062.488529   \n",
       "2019-11-01 04:00:00         9104.168620          2055.162223   \n",
       "\n",
       "                     OXO-5FIC601 Augusta  OXO-5FIC612A Augusta   \n",
       "Date                                                             \n",
       "2019-11-01 00:00:00            67.208298              0.009363  \\\n",
       "2019-11-01 01:00:00            67.204392              0.008853   \n",
       "2019-11-01 02:00:00            67.031974              0.009193   \n",
       "2019-11-01 03:00:00            66.808810              0.009306   \n",
       "2019-11-01 04:00:00            66.354369              0.009023   \n",
       "\n",
       "                     OXO-5FIC612B Augusta  OXO-5FI635C Augusta   \n",
       "Date                                                             \n",
       "2019-11-01 00:00:00              8.997839          5859.125648  \\\n",
       "2019-11-01 01:00:00              9.000415          5950.173837   \n",
       "2019-11-01 02:00:00              8.999083          6379.102250   \n",
       "2019-11-01 03:00:00              8.997776          6337.343084   \n",
       "2019-11-01 04:00:00              8.998597          6183.590302   \n",
       "\n",
       "                     OXO-5FI661A Augusta  OXO-5FIC132 Augusta   \n",
       "Date                                                            \n",
       "2019-11-01 00:00:00         23345.857389             4.450549  \\\n",
       "2019-11-01 01:00:00         23346.553467             4.410112   \n",
       "2019-11-01 02:00:00         23430.336545             4.285714   \n",
       "2019-11-01 03:00:00         23384.694743             4.775281   \n",
       "2019-11-01 04:00:00         23357.085677             4.388889   \n",
       "\n",
       "                     OXO-5FIC602 Augusta  OXO-5FIC603 Augusta  ...   \n",
       "Date                                                           ...   \n",
       "2019-11-01 00:00:00          5069.174366                  0.0  ...  \\\n",
       "2019-11-01 01:00:00          5068.014148                  0.0  ...   \n",
       "2019-11-01 02:00:00          5069.603650                  0.0  ...   \n",
       "2019-11-01 03:00:00          5061.608939                  0.0  ...   \n",
       "2019-11-01 04:00:00          5004.132636                  0.0  ...   \n",
       "\n",
       "                     OXO-5TIC604 Augusta  OXO-5TIC605 Augusta   \n",
       "Date                                                            \n",
       "2019-11-01 00:00:00           130.578919           133.007764  \\\n",
       "2019-11-01 01:00:00           130.640505           132.966600   \n",
       "2019-11-01 02:00:00           130.675602           133.035094   \n",
       "2019-11-01 03:00:00           130.613462           133.000552   \n",
       "2019-11-01 04:00:00           130.614549           133.004748   \n",
       "\n",
       "                     OXO-5TIC606 Augusta  OXO-5TIC607 Augusta   \n",
       "Date                                                            \n",
       "2019-11-01 00:00:00           134.032267           130.899539  \\\n",
       "2019-11-01 01:00:00           134.035076           130.849780   \n",
       "2019-11-01 02:00:00           134.001994           130.743083   \n",
       "2019-11-01 03:00:00           133.979115           130.760757   \n",
       "2019-11-01 04:00:00           134.000492           130.814450   \n",
       "\n",
       "                     OXO-5TIC659 Augusta  OXO-_5FI658A Augusta   \n",
       "Date                                                             \n",
       "2019-11-01 00:00:00           298.029910          21719.630615  \\\n",
       "2019-11-01 01:00:00           298.084330          21727.622575   \n",
       "2019-11-01 02:00:00           297.930878          21836.766659   \n",
       "2019-11-01 03:00:00           298.052583          21783.450505   \n",
       "2019-11-01 04:00:00           298.039928          21748.715137   \n",
       "\n",
       "                     OXO-_5FI659A Augusta  OXO-_5FI660A Augusta   \n",
       "Date                                                              \n",
       "2019-11-01 00:00:00          22870.976318          22026.824772  \\\n",
       "2019-11-01 01:00:00          22879.205452          22042.948193   \n",
       "2019-11-01 02:00:00          22970.057215          22156.774258   \n",
       "2019-11-01 03:00:00          22920.952018          22088.356950   \n",
       "2019-11-01 04:00:00          22895.312126          22073.622298   \n",
       "\n",
       "                     OXO-_5FI662A Augusta      kpi1  \n",
       "Date                                                 \n",
       "2019-11-01 00:00:00          22036.315560  0.881586  \n",
       "2019-11-01 01:00:00          22056.644971  0.841922  \n",
       "2019-11-01 02:00:00          22105.218684  0.828599  \n",
       "2019-11-01 03:00:00          22064.178402  0.828199  \n",
       "2019-11-01 04:00:00          22053.480892  0.818048  \n",
       "\n",
       "[5 rows x 59 columns]"
      ]
     },
     "execution_count": 9,
     "metadata": {},
     "output_type": "execute_result"
    }
   ],
   "source": [
    "df.head()"
   ]
  },
  {
   "cell_type": "code",
   "execution_count": 166,
   "id": "695e752d",
   "metadata": {},
   "outputs": [
    {
     "data": {
      "text/plain": [
       "53"
      ]
     },
     "execution_count": 166,
     "metadata": {},
     "output_type": "execute_result"
    }
   ],
   "source": [
    "tag_list = list(df.columns)[5:-1]\n",
    "len(tag_list)"
   ]
  },
  {
   "cell_type": "code",
   "execution_count": 162,
   "id": "0d73d8fe",
   "metadata": {},
   "outputs": [
    {
     "data": {
      "text/plain": [
       "48"
      ]
     },
     "execution_count": 162,
     "metadata": {},
     "output_type": "execute_result"
    }
   ],
   "source": [
    "# del_col = ['OXO-5FIC606A Augusta', 'OXO-5FIC611B Augusta', 'OXO-5LI654F Augusta', 'OXO-5FIC607 Augusta', 'OXO-5FIC618A Augusta', 'OXO-5RIC606_Y Augusta']\n",
    "# tag_list = [x for x in tag_list if x not in del_col]\n",
    "# len(tag_list)"
   ]
  },
  {
   "cell_type": "code",
   "execution_count": 11,
   "id": "d826a987",
   "metadata": {},
   "outputs": [
    {
     "name": "stdout",
     "output_type": "stream",
     "text": [
      "{'OXO-5FI635C Augusta': 'Measurement', 'OXO-5FI661A Augusta': 'Measurement', 'OXO-5FI696 Augusta': 'Independent', 'OXO-5FIC132 Augusta': 'Independent', 'OXO-5FIC600 Augusta': 'Target', 'OXO-5FIC601 Augusta': 'Target', 'OXO-5FIC602 Augusta': 'Control', 'OXO-5FIC603 Augusta': 'Control', 'OXO-5FIC606A Augusta': 'Control', 'OXO-5FIC606C Augusta': 'Control', 'OXO-5FIC607 Augusta': 'Control', 'OXO-5FIC609A Augusta': 'Target', 'OXO-5FIC609B Augusta': 'Control', 'OXO-5FIC611A Augusta': 'Control', 'OXO-5FIC611B Augusta': 'Control', 'OXO-5FIC612A Augusta': 'Target', 'OXO-5FIC612B Augusta': 'Target', 'OXO-5FIC618A Augusta': 'Control', 'OXO-5FIC618B Augusta': 'Control', 'OXO-5FIC618C Augusta': 'Control', 'OXO-5FIC618D Augusta': 'Control', 'OXO-5FIC622A Augusta': 'Control', 'OXO-5FIC622B Augusta': 'Control', 'OXO-5FIC622C Augusta': 'Control', 'OXO-5FIC636A Augusta': 'Control', 'OXO-5FIC636B Augusta': 'Control', 'OXO-5FIC636C Augusta': 'Control', 'OXO-5FQI691B Augusta': 'Measurement', 'OXO-5LI633B Augusta': 'Measurement', 'OXO-5LI650F Augusta': 'Measurement', 'OXO-5LI651E Augusta': 'Measurement', 'OXO-5LI651F Augusta': 'Measurement', 'OXO-5LI652E Augusta': 'Measurement', 'OXO-5LI652F Augusta': 'Measurement', 'OXO-5LI653E Augusta': 'Measurement', 'OXO-5LI653F Augusta': 'Measurement', 'OXO-5LI654E Augusta': 'Measurement', 'OXO-5LI654F Augusta': 'Measurement', 'OXO-5LI655F Augusta': 'Measurement', 'OXO-5LI656F Augusta': 'Measurement', 'OXO-5LI657E Augusta': 'Measurement', 'OXO-5LI657F Augusta': 'Measurement', 'OXO-5LI658E Augusta': 'Measurement', 'OXO-5LI658F Augusta': 'Measurement', 'OXO-5PIC605A Augusta': 'Control', 'OXO-5RIC606_Y Augusta': 'Control', 'OXO-5TIC002 Augusta': 'Control', 'OXO-5TIC659 Augusta': 'Control', 'OXO-_5FI658A Augusta': 'Measurement', 'OXO-_5FI659A Augusta': 'Measurement', 'OXO-_5FI660A Augusta': 'Measurement', 'OXO-_5FI662A Augusta': 'Measurement', 'OXO-5TIC601 Augusta': 'Control', 'OXO-5TIC602 Augusta': 'Control', 'OXO-5TIC603 Augusta': 'Control', 'OXO-5TIC604 Augusta': 'Control', 'OXO-5TIC605 Augusta': 'Control', 'OXO-5TIC606 Augusta': 'Control', 'OXO-5TIC607 Augusta': 'Control'}\n"
     ]
    }
   ],
   "source": [
    "# Create a dictionary to map the category to each tag\n",
    "tag_df = pd.read_excel(cfg.path.tags_info)\n",
    "# delete the first 3 str characters in the tag name\n",
    "tag_df['Tag'] = tag_df['Tag'].apply(lambda x: x[3:])\n",
    "# convert the . into - in the tag name\n",
    "tag_df['Tag'] = tag_df['Tag'].apply(lambda x: x.replace('.', '-'))\n",
    "\n",
    "tag_dict = dict(zip(tag_df['Tag'], tag_df['Category']))\n",
    "print(tag_dict)"
   ]
  },
  {
   "cell_type": "code",
   "execution_count": 167,
   "id": "c7099d3c",
   "metadata": {},
   "outputs": [
    {
     "name": "stdout",
     "output_type": "stream",
     "text": [
      "29\n"
     ]
    },
    {
     "data": {
      "text/plain": [
       "24"
      ]
     },
     "execution_count": 167,
     "metadata": {},
     "output_type": "execute_result"
    }
   ],
   "source": [
    "# find tag in tag_list which has Control value in tag_dict\n",
    "ctrl_tag = [tag for tag in tag_list if tag_dict[tag] == 'Control']\n",
    "print(len(ctrl_tag))\n",
    "# the rest of the tags are independent tags\n",
    "ind_tag = [tag for tag in tag_list if tag_dict[tag] != 'Control']\n",
    "len(ind_tag)"
   ]
  },
  {
   "cell_type": "code",
   "execution_count": 29,
   "id": "a7a7c08c-7499-4de4-bed7-38b1fe01a3c9",
   "metadata": {},
   "outputs": [],
   "source": [
    "# select_good_period(df, 10)"
   ]
  },
  {
   "cell_type": "code",
   "execution_count": 30,
   "id": "c0feef98-012d-4105-9cc9-6f091724a905",
   "metadata": {},
   "outputs": [],
   "source": [
    "# # Investigate in all the CV\n",
    "# for tag in ctrl_tag:\n",
    "#     fig = single_column_vis(df, tag, '')\n",
    "#     fig.show()"
   ]
  },
  {
   "attachments": {},
   "cell_type": "markdown",
   "id": "6948fdda",
   "metadata": {},
   "source": [
    "#### Build the Final Model / Feature Selection Verification"
   ]
  },
  {
   "cell_type": "code",
   "execution_count": 176,
   "id": "47e11e27",
   "metadata": {},
   "outputs": [],
   "source": [
    "cfg = Box(read_yaml('../src/conf/config.yaml'))\n",
    "Config = Box(read_yaml('../src/conf/baseline.yaml'))"
   ]
  },
  {
   "cell_type": "code",
   "execution_count": 205,
   "id": "2f92f4c8",
   "metadata": {},
   "outputs": [
    {
     "name": "stderr",
     "output_type": "stream",
     "text": [
      "[I 2023-07-09 17:37:09,551] A new study created in memory with name: no-name-817901ef-c60d-4ef0-9504-daafa9881a3f\n"
     ]
    },
    {
     "name": "stderr",
     "output_type": "stream",
     "text": [
      "[I 2023-07-09 17:37:19,009] Trial 0 finished with value: 1359.8485123366534 and parameters: {'n_estimators': 2000, 'max_depth': 6, 'learning_rate': 0.025354402565181167, 'subsample': 0.9452013760329597, 'colsample_bytree': 0.49325586408601674, 'min_child_weight': 1, 'reg_alpha': 0.09194812450027856, 'reg_lambda': 0.5081499860064606, 'early_stopping_rounds': 19}. Best is trial 0 with value: 1359.8485123366534.\n",
      "[I 2023-07-09 17:37:36,707] Trial 1 finished with value: 1308.2620670222923 and parameters: {'n_estimators': 3000, 'max_depth': 5, 'learning_rate': 0.005411003385334747, 'subsample': 0.30147161019581953, 'colsample_bytree': 0.6243735674759876, 'min_child_weight': 9, 'reg_alpha': 0.7131827730077026, 'reg_lambda': 0.5210358347436223, 'early_stopping_rounds': 42}. Best is trial 1 with value: 1308.2620670222923.\n",
      "[I 2023-07-09 17:37:45,396] Trial 2 finished with value: 1309.226418564717 and parameters: {'n_estimators': 2000, 'max_depth': 2, 'learning_rate': 0.005544793937870267, 'subsample': 0.7139579952193132, 'colsample_bytree': 0.3721281847855231, 'min_child_weight': 3, 'reg_alpha': 0.16234258128728274, 'reg_lambda': 0.8415065305557738, 'early_stopping_rounds': 32}. Best is trial 1 with value: 1308.2620670222923.\n",
      "[I 2023-07-09 17:38:05,771] Trial 3 finished with value: 1432.181059649107 and parameters: {'n_estimators': 1000, 'max_depth': 4, 'learning_rate': 0.006272621136536039, 'subsample': 0.7401689695239614, 'colsample_bytree': 0.7354003040614795, 'min_child_weight': 10, 'reg_alpha': 0.5186490607747754, 'reg_lambda': 0.7842567955500701, 'early_stopping_rounds': 12}. Best is trial 1 with value: 1308.2620670222923.\n",
      "[I 2023-07-09 17:38:17,391] Trial 4 finished with value: 1027.3831491077613 and parameters: {'n_estimators': 8000, 'max_depth': 5, 'learning_rate': 0.006356633424036521, 'subsample': 0.48628116322996484, 'colsample_bytree': 0.2986212423265888, 'min_child_weight': 6, 'reg_alpha': 0.20665926373421406, 'reg_lambda': 0.3855052140736175, 'early_stopping_rounds': 36}. Best is trial 4 with value: 1027.3831491077613.\n",
      "[I 2023-07-09 17:38:56,578] Trial 5 finished with value: 989.256516642732 and parameters: {'n_estimators': 3000, 'max_depth': 8, 'learning_rate': 0.0015104887354777862, 'subsample': 0.4345601143522003, 'colsample_bytree': 0.1260339497675294, 'min_child_weight': 8, 'reg_alpha': 0.3396211704261358, 'reg_lambda': 0.8247395201921877, 'early_stopping_rounds': 48}. Best is trial 5 with value: 989.256516642732.\n",
      "[I 2023-07-09 17:39:29,547] Trial 6 finished with value: 1349.3943643186506 and parameters: {'n_estimators': 5000, 'max_depth': 5, 'learning_rate': 0.004367731699767249, 'subsample': 0.6570271423374363, 'colsample_bytree': 0.6356446246057779, 'min_child_weight': 10, 'reg_alpha': 0.7047147749358217, 'reg_lambda': 0.16017278124818368, 'early_stopping_rounds': 26}. Best is trial 5 with value: 989.256516642732.\n",
      "[I 2023-07-09 17:39:41,198] Trial 7 finished with value: 1472.470265183842 and parameters: {'n_estimators': 8000, 'max_depth': 8, 'learning_rate': 0.028681023321879353, 'subsample': 0.5560259353581056, 'colsample_bytree': 0.6751791766160087, 'min_child_weight': 3, 'reg_alpha': 0.630348891341187, 'reg_lambda': 0.27022652756959564, 'early_stopping_rounds': 35}. Best is trial 5 with value: 989.256516642732.\n",
      "[I 2023-07-09 17:39:49,675] Trial 8 finished with value: 1678.6623914303075 and parameters: {'n_estimators': 1000, 'max_depth': 9, 'learning_rate': 0.06556767904663553, 'subsample': 0.9810904498604817, 'colsample_bytree': 0.7715286027783906, 'min_child_weight': 6, 'reg_alpha': 0.1586968430636233, 'reg_lambda': 0.6963694233624024, 'early_stopping_rounds': 13}. Best is trial 5 with value: 989.256516642732.\n",
      "[I 2023-07-09 17:40:41,265] Trial 9 finished with value: 1252.024557617538 and parameters: {'n_estimators': 1000, 'max_depth': 10, 'learning_rate': 0.006030597789402643, 'subsample': 0.83392612062772, 'colsample_bytree': 0.46215495131290274, 'min_child_weight': 5, 'reg_alpha': 0.9313404635889755, 'reg_lambda': 0.8285333208127926, 'early_stopping_rounds': 37}. Best is trial 5 with value: 989.256516642732.\n",
      "[I 2023-07-09 17:41:10,050] Trial 10 finished with value: 997.9377128316814 and parameters: {'n_estimators': 5000, 'max_depth': 7, 'learning_rate': 0.0010523213170210047, 'subsample': 0.18980288061659292, 'colsample_bytree': 0.11105649453249002, 'min_child_weight': 8, 'reg_alpha': 0.35351955561782966, 'reg_lambda': 0.972161399131686, 'early_stopping_rounds': 48}. Best is trial 5 with value: 989.256516642732.\n",
      "[I 2023-07-09 17:41:33,836] Trial 11 finished with value: 1002.0204974372961 and parameters: {'n_estimators': 5000, 'max_depth': 7, 'learning_rate': 0.0010807312353839009, 'subsample': 0.16055834833940125, 'colsample_bytree': 0.11290589171361043, 'min_child_weight': 8, 'reg_alpha': 0.3411459699147044, 'reg_lambda': 0.9991717499101911, 'early_stopping_rounds': 48}. Best is trial 5 with value: 989.256516642732.\n",
      "[I 2023-07-09 17:42:07,933] Trial 12 finished with value: 992.5514700637392 and parameters: {'n_estimators': 4000, 'max_depth': 8, 'learning_rate': 0.0010079614274755076, 'subsample': 0.31469018630201445, 'colsample_bytree': 0.10437425499367398, 'min_child_weight': 8, 'reg_alpha': 0.34197673951155394, 'reg_lambda': 0.9837318915302367, 'early_stopping_rounds': 50}. Best is trial 5 with value: 989.256516642732.\n",
      "[I 2023-07-09 17:44:00,280] Trial 13 finished with value: 1714.4774721475983 and parameters: {'n_estimators': 4000, 'max_depth': 10, 'learning_rate': 0.0019334824007076522, 'subsample': 0.35400097213940407, 'colsample_bytree': 0.9474520099219483, 'min_child_weight': 7, 'reg_alpha': 0.39588905580120515, 'reg_lambda': 0.6470570246473273, 'early_stopping_rounds': 43}. Best is trial 5 with value: 989.256516642732.\n",
      "[I 2023-07-09 17:44:33,680] Trial 14 finished with value: 985.8224376252042 and parameters: {'n_estimators': 3000, 'max_depth': 8, 'learning_rate': 0.002268029315488792, 'subsample': 0.4195497752311669, 'colsample_bytree': 0.2354214042253367, 'min_child_weight': 8, 'reg_alpha': 0.010944198232713531, 'reg_lambda': 0.9972122119612966, 'early_stopping_rounds': 50}. Best is trial 14 with value: 985.8224376252042.\n",
      "[I 2023-07-09 17:45:05,571] Trial 15 finished with value: 996.4998138162651 and parameters: {'n_estimators': 10000, 'max_depth': 8, 'learning_rate': 0.0025722556277553792, 'subsample': 0.4651071706291099, 'colsample_bytree': 0.259916974339338, 'min_child_weight': 5, 'reg_alpha': 0.23999075886117827, 'reg_lambda': 0.8833828623957615, 'early_stopping_rounds': 42}. Best is trial 14 with value: 985.8224376252042.\n",
      "[I 2023-07-09 17:45:11,140] Trial 16 finished with value: 1379.6025638290819 and parameters: {'n_estimators': 7000, 'max_depth': 1, 'learning_rate': 0.001989402780902572, 'subsample': 0.4247725812570808, 'colsample_bytree': 0.24872965650620238, 'min_child_weight': 7, 'reg_alpha': 0.027897114903045545, 'reg_lambda': 0.6837507670479694, 'early_stopping_rounds': 26}. Best is trial 14 with value: 985.8224376252042.\n",
      "[I 2023-07-09 17:45:38,959] Trial 17 finished with value: 995.4391140361572 and parameters: {'n_estimators': 3000, 'max_depth': 9, 'learning_rate': 0.003116409446391184, 'subsample': 0.5621293941296228, 'colsample_bytree': 0.19959667745252946, 'min_child_weight': 9, 'reg_alpha': 0.0006156040241929173, 'reg_lambda': 0.02387712043058199, 'early_stopping_rounds': 45}. Best is trial 14 with value: 985.8224376252042.\n",
      "[I 2023-07-09 17:45:55,127] Trial 18 finished with value: 1170.9301390035744 and parameters: {'n_estimators': 3000, 'max_depth': 3, 'learning_rate': 0.0017300866464291, 'subsample': 0.2574715708792453, 'colsample_bytree': 0.37743149941944454, 'min_child_weight': 4, 'reg_alpha': 0.002016217035896479, 'reg_lambda': 0.8930321860266277, 'early_stopping_rounds': 50}. Best is trial 14 with value: 985.8224376252042.\n",
      "[I 2023-07-09 17:45:58,231] Trial 19 finished with value: 988.9876959170001 and parameters: {'n_estimators': 6000, 'max_depth': 7, 'learning_rate': 0.010725830760239093, 'subsample': 0.10109108708395204, 'colsample_bytree': 0.20305362532030705, 'min_child_weight': 7, 'reg_alpha': 0.25694723146324494, 'reg_lambda': 0.7286484150039384, 'early_stopping_rounds': 39}. Best is trial 14 with value: 985.8224376252042.\n",
      "[I 2023-07-09 17:46:02,241] Trial 20 finished with value: 1103.8752356319676 and parameters: {'n_estimators': 7000, 'max_depth': 6, 'learning_rate': 0.010762370953053518, 'subsample': 0.11998047483416059, 'colsample_bytree': 0.3746487513533251, 'min_child_weight': 7, 'reg_alpha': 0.23450438986462852, 'reg_lambda': 0.6131510678382079, 'early_stopping_rounds': 39}. Best is trial 14 with value: 985.8224376252042.\n",
      "[I 2023-07-09 17:46:14,511] Trial 21 finished with value: 952.8379344470599 and parameters: {'n_estimators': 6000, 'max_depth': 7, 'learning_rate': 0.0032021933611842968, 'subsample': 0.23507986146652124, 'colsample_bytree': 0.18820267277209884, 'min_child_weight': 9, 'reg_alpha': 0.10368758879540352, 'reg_lambda': 0.7624246562044046, 'early_stopping_rounds': 46}. Best is trial 21 with value: 952.8379344470599.\n",
      "[I 2023-07-09 17:46:25,661] Trial 22 finished with value: 983.2176092192448 and parameters: {'n_estimators': 6000, 'max_depth': 7, 'learning_rate': 0.0028655253864749443, 'subsample': 0.10967065250664959, 'colsample_bytree': 0.19788735033662833, 'min_child_weight': 9, 'reg_alpha': 0.10651834210668716, 'reg_lambda': 0.7530809183956753, 'early_stopping_rounds': 40}. Best is trial 21 with value: 952.8379344470599.\n",
      "[I 2023-07-09 17:46:42,120] Trial 23 finished with value: 974.7831060706213 and parameters: {'n_estimators': 6000, 'max_depth': 7, 'learning_rate': 0.0030266154486359117, 'subsample': 0.22222412470113773, 'colsample_bytree': 0.30122878969487416, 'min_child_weight': 9, 'reg_alpha': 0.08756279619741696, 'reg_lambda': 0.7656779275448221, 'early_stopping_rounds': 44}. Best is trial 21 with value: 952.8379344470599.\n",
      "[I 2023-07-09 17:46:57,508] Trial 24 finished with value: 1048.4512281861612 and parameters: {'n_estimators': 6000, 'max_depth': 6, 'learning_rate': 0.0032298210787157743, 'subsample': 0.22854384415921136, 'colsample_bytree': 0.3404197644759626, 'min_child_weight': 10, 'reg_alpha': 0.11111174352680914, 'reg_lambda': 0.5774485089265241, 'early_stopping_rounds': 44}. Best is trial 21 with value: 952.8379344470599.\n",
      "[I 2023-07-09 17:47:07,338] Trial 25 finished with value: 966.761310025798 and parameters: {'n_estimators': 7000, 'max_depth': 7, 'learning_rate': 0.0036853844270846444, 'subsample': 0.18470054090144306, 'colsample_bytree': 0.18864191035037675, 'min_child_weight': 9, 'reg_alpha': 0.13953783102706263, 'reg_lambda': 0.7477701434934128, 'early_stopping_rounds': 31}. Best is trial 21 with value: 952.8379344470599.\n",
      "[I 2023-07-09 17:47:14,899] Trial 26 finished with value: 1042.1435490915524 and parameters: {'n_estimators': 9000, 'max_depth': 4, 'learning_rate': 0.003956558573202863, 'subsample': 0.21280484055048549, 'colsample_bytree': 0.3159394176058024, 'min_child_weight': 9, 'reg_alpha': 0.09202268490884874, 'reg_lambda': 0.7315091909253861, 'early_stopping_rounds': 29}. Best is trial 21 with value: 952.8379344470599.\n",
      "[I 2023-07-09 17:47:27,564] Trial 27 finished with value: 965.5605854054932 and parameters: {'n_estimators': 7000, 'max_depth': 9, 'learning_rate': 0.003762511758408567, 'subsample': 0.24982299663906915, 'colsample_bytree': 0.1728511361527672, 'min_child_weight': 10, 'reg_alpha': 0.15188193429848088, 'reg_lambda': 0.633777439805541, 'early_stopping_rounds': 23}. Best is trial 21 with value: 952.8379344470599.\n",
      "[I 2023-07-09 17:47:35,072] Trial 28 finished with value: 995.7184130163395 and parameters: {'n_estimators': 7000, 'max_depth': 9, 'learning_rate': 0.008036528833747305, 'subsample': 0.35639053912904034, 'colsample_bytree': 0.18276212942759662, 'min_child_weight': 10, 'reg_alpha': 0.19621594140525928, 'reg_lambda': 0.6344620834206043, 'early_stopping_rounds': 19}. Best is trial 21 with value: 952.8379344470599.\n",
      "[I 2023-07-09 17:47:57,074] Trial 29 finished with value: 1153.2659072176132 and parameters: {'n_estimators': 8000, 'max_depth': 9, 'learning_rate': 0.004067533798514225, 'subsample': 0.2741434406225312, 'colsample_bytree': 0.4353103377697082, 'min_child_weight': 10, 'reg_alpha': 0.28996052337240685, 'reg_lambda': 0.5670275927578794, 'early_stopping_rounds': 20}. Best is trial 21 with value: 952.8379344470599.\n",
      "[I 2023-07-09 17:48:04,838] Trial 30 finished with value: 994.7106767738616 and parameters: {'n_estimators': 9000, 'max_depth': 10, 'learning_rate': 0.008329346827407708, 'subsample': 0.17177643500942888, 'colsample_bytree': 0.17004373929456187, 'min_child_weight': 1, 'reg_alpha': 0.15431628523250088, 'reg_lambda': 0.48128960271231497, 'early_stopping_rounds': 24}. Best is trial 21 with value: 952.8379344470599.\n",
      "[I 2023-07-09 17:48:18,766] Trial 31 finished with value: 1002.4949611172264 and parameters: {'n_estimators': 7000, 'max_depth': 6, 'learning_rate': 0.0034207517238993286, 'subsample': 0.23765864492882866, 'colsample_bytree': 0.2832332846922946, 'min_child_weight': 9, 'reg_alpha': 0.06799509658666694, 'reg_lambda': 0.7697497090409522, 'early_stopping_rounds': 15}. Best is trial 21 with value: 952.8379344470599.\n",
      "[I 2023-07-09 17:48:40,347] Trial 32 finished with value: 974.0601916448265 and parameters: {'n_estimators': 6000, 'max_depth': 7, 'learning_rate': 0.002564457596857965, 'subsample': 0.3053469879975302, 'colsample_bytree': 0.26099712248467866, 'min_child_weight': 9, 'reg_alpha': 0.10033545028679215, 'reg_lambda': 0.6846417374146399, 'early_stopping_rounds': 22}. Best is trial 21 with value: 952.8379344470599.\n",
      "[I 2023-07-09 17:48:50,373] Trial 33 finished with value: 964.7221835561242 and parameters: {'n_estimators': 7000, 'max_depth': 6, 'learning_rate': 0.0045793401999242095, 'subsample': 0.30006589886274504, 'colsample_bytree': 0.2491663966698598, 'min_child_weight': 9, 'reg_alpha': 0.1417124995894471, 'reg_lambda': 0.6764339475438659, 'early_stopping_rounds': 22}. Best is trial 21 with value: 952.8379344470599.\n",
      "[I 2023-07-09 17:48:54,312] Trial 34 finished with value: 1031.962494743749 and parameters: {'n_estimators': 8000, 'max_depth': 4, 'learning_rate': 0.004753912887824553, 'subsample': 0.15725121347275528, 'colsample_bytree': 0.1560750708694042, 'min_child_weight': 10, 'reg_alpha': 0.15364882442783548, 'reg_lambda': 0.513170503753143, 'early_stopping_rounds': 31}. Best is trial 21 with value: 952.8379344470599.\n",
      "[I 2023-07-09 17:49:00,695] Trial 35 finished with value: 974.1968621338413 and parameters: {'n_estimators': 9000, 'max_depth': 5, 'learning_rate': 0.004997101532234473, 'subsample': 0.2760676887035135, 'colsample_bytree': 0.2225754719062604, 'min_child_weight': 9, 'reg_alpha': 0.1825041359740432, 'reg_lambda': 0.645354743693236, 'early_stopping_rounds': 28}. Best is trial 21 with value: 952.8379344470599.\n",
      "[I 2023-07-09 17:49:09,611] Trial 36 finished with value: 966.011976020516 and parameters: {'n_estimators': 7000, 'max_depth': 6, 'learning_rate': 0.0037970713077228498, 'subsample': 0.3508809203844574, 'colsample_bytree': 0.1591920306208241, 'min_child_weight': 8, 'reg_alpha': 0.24617133619365672, 'reg_lambda': 0.7999613728851022, 'early_stopping_rounds': 17}. Best is trial 21 with value: 952.8379344470599.\n",
      "[I 2023-07-09 17:49:32,721] Trial 37 finished with value: 961.6198631490871 and parameters: {'n_estimators': 8000, 'max_depth': 6, 'learning_rate': 0.0015134727942331693, 'subsample': 0.36978824359385226, 'colsample_bytree': 0.16500340332676028, 'min_child_weight': 8, 'reg_alpha': 0.274054246443087, 'reg_lambda': 0.8086619495199913, 'early_stopping_rounds': 16}. Best is trial 21 with value: 952.8379344470599.\n",
      "[I 2023-07-09 17:49:50,321] Trial 38 finished with value: 976.8850444348124 and parameters: {'n_estimators': 8000, 'max_depth': 5, 'learning_rate': 0.0014542666879462094, 'subsample': 0.3177729655339875, 'colsample_bytree': 0.15159216049220695, 'min_child_weight': 10, 'reg_alpha': 0.44016066905244555, 'reg_lambda': 0.8675125178151173, 'early_stopping_rounds': 10}. Best is trial 21 with value: 952.8379344470599.\n",
      "[I 2023-07-09 17:50:24,006] Trial 39 finished with value: 1176.7269690810433 and parameters: {'n_estimators': 10000, 'max_depth': 4, 'learning_rate': 0.0015448133508455262, 'subsample': 0.38105663424697783, 'colsample_bytree': 0.5154762622186875, 'min_child_weight': 6, 'reg_alpha': 0.2851601537764201, 'reg_lambda': 0.8089857657617504, 'early_stopping_rounds': 21}. Best is trial 21 with value: 952.8379344470599.\n",
      "[I 2023-07-09 17:50:42,630] Trial 40 finished with value: 970.2213953586992 and parameters: {'n_estimators': 9000, 'max_depth': 6, 'learning_rate': 0.0021604441606584758, 'subsample': 0.2784659683786097, 'colsample_bytree': 0.23504125286704086, 'min_child_weight': 10, 'reg_alpha': 0.20768217793736937, 'reg_lambda': 0.5695773284843715, 'early_stopping_rounds': 17}. Best is trial 21 with value: 952.8379344470599.\n",
      "[I 2023-07-09 17:50:48,788] Trial 41 finished with value: 978.8600483001658 and parameters: {'n_estimators': 7000, 'max_depth': 6, 'learning_rate': 0.005508095807277218, 'subsample': 0.36857331137192095, 'colsample_bytree': 0.15431986198358078, 'min_child_weight': 8, 'reg_alpha': 0.2770176715085519, 'reg_lambda': 0.8154980354327758, 'early_stopping_rounds': 17}. Best is trial 21 with value: 952.8379344470599.\n",
      "[I 2023-07-09 17:50:55,069] Trial 42 finished with value: 947.9973350349635 and parameters: {'n_estimators': 8000, 'max_depth': 5, 'learning_rate': 0.004413941944723174, 'subsample': 0.3218284291646456, 'colsample_bytree': 0.14560605029483012, 'min_child_weight': 8, 'reg_alpha': 0.20664872636101608, 'reg_lambda': 0.6978767882954842, 'early_stopping_rounds': 23}. Best is trial 42 with value: 947.9973350349635.\n",
      "[I 2023-07-09 17:51:03,015] Trial 43 finished with value: 1023.6558665445207 and parameters: {'n_estimators': 8000, 'max_depth': 5, 'learning_rate': 0.0024506034393480722, 'subsample': 0.255112240881895, 'colsample_bytree': 0.10244812730066503, 'min_child_weight': 7, 'reg_alpha': 0.18649602410343244, 'reg_lambda': 0.6936238522713041, 'early_stopping_rounds': 23}. Best is trial 42 with value: 947.9973350349635.\n",
      "[I 2023-07-09 17:51:07,005] Trial 44 finished with value: 1130.1080913274482 and parameters: {'n_estimators': 8000, 'max_depth': 3, 'learning_rate': 0.006643961770523806, 'subsample': 0.30915153514362353, 'colsample_bytree': 0.27784433756857246, 'min_child_weight': 8, 'reg_alpha': 0.05505734867947054, 'reg_lambda': 0.4526729116053404, 'early_stopping_rounds': 33}. Best is trial 42 with value: 947.9973350349635.\n",
      "[I 2023-07-09 17:51:11,420] Trial 45 finished with value: 956.3034099037089 and parameters: {'n_estimators': 5000, 'max_depth': 5, 'learning_rate': 0.004927751367981848, 'subsample': 0.2115213224802276, 'colsample_bytree': 0.13084116108225746, 'min_child_weight': 1, 'reg_alpha': 0.13555810410503935, 'reg_lambda': 0.6914679311310851, 'early_stopping_rounds': 25}. Best is trial 42 with value: 947.9973350349635.\n",
      "[I 2023-07-09 17:51:17,501] Trial 46 finished with value: 974.4542841816394 and parameters: {'n_estimators': 4000, 'max_depth': 5, 'learning_rate': 0.004707780125100754, 'subsample': 0.4036924745010674, 'colsample_bytree': 0.13297772480193493, 'min_child_weight': 2, 'reg_alpha': 0.306433914678201, 'reg_lambda': 0.8428828937183888, 'early_stopping_rounds': 26}. Best is trial 42 with value: 947.9973350349635.\n",
      "[I 2023-07-09 17:51:21,437] Trial 47 finished with value: 1045.5194600468346 and parameters: {'n_estimators': 5000, 'max_depth': 4, 'learning_rate': 0.005906384053841394, 'subsample': 0.48365907935824054, 'colsample_bytree': 0.10331011016551836, 'min_child_weight': 3, 'reg_alpha': 0.21488206312026326, 'reg_lambda': 0.7165533381761032, 'early_stopping_rounds': 14}. Best is trial 42 with value: 947.9973350349635.\n",
      "[I 2023-07-09 17:51:35,849] Trial 48 finished with value: 1106.3454778650428 and parameters: {'n_estimators': 5000, 'max_depth': 3, 'learning_rate': 0.0014518010924989755, 'subsample': 0.3198061664186651, 'colsample_bytree': 0.21697956172996086, 'min_child_weight': 4, 'reg_alpha': 0.05581488487679093, 'reg_lambda': 0.6768938230754548, 'early_stopping_rounds': 25}. Best is trial 42 with value: 947.9973350349635.\n",
      "[I 2023-07-09 17:51:47,168] Trial 49 finished with value: 981.0271312315904 and parameters: {'n_estimators': 4000, 'max_depth': 5, 'learning_rate': 0.002759215524342831, 'subsample': 0.20759064948555866, 'colsample_bytree': 0.2260044309401115, 'min_child_weight': 1, 'reg_alpha': 0.11710494579013067, 'reg_lambda': 0.9127539882375716, 'early_stopping_rounds': 28}. Best is trial 42 with value: 947.9973350349635.\n",
      "[I 2023-07-09 17:52:15,628] Trial 50 finished with value: 973.016320346407 and parameters: {'n_estimators': 5000, 'max_depth': 6, 'learning_rate': 0.0012268438003990702, 'subsample': 0.44950087007017153, 'colsample_bytree': 0.13682880189257207, 'min_child_weight': 2, 'reg_alpha': 0.18673105609243554, 'reg_lambda': 0.7885336517725889, 'early_stopping_rounds': 19}. Best is trial 42 with value: 947.9973350349635.\n",
      "[I 2023-07-09 17:52:25,689] Trial 51 finished with value: 948.4116185131967 and parameters: {'n_estimators': 6000, 'max_depth': 8, 'learning_rate': 0.004284648121659184, 'subsample': 0.261439968442997, 'colsample_bytree': 0.1790118278991641, 'min_child_weight': 8, 'reg_alpha': 0.14955459597668064, 'reg_lambda': 0.6042716856671461, 'early_stopping_rounds': 22}. Best is trial 42 with value: 947.9973350349635.\n",
      "[I 2023-07-09 17:52:45,639] Trial 52 finished with value: 982.5421921367584 and parameters: {'n_estimators': 6000, 'max_depth': 8, 'learning_rate': 0.0019449202359540184, 'subsample': 0.39726290525802244, 'colsample_bytree': 0.13072933938117215, 'min_child_weight': 6, 'reg_alpha': 0.05392396014772505, 'reg_lambda': 0.707073840659525, 'early_stopping_rounds': 25}. Best is trial 42 with value: 947.9973350349635.\n",
      "[I 2023-07-09 17:52:57,832] Trial 53 finished with value: 981.0803884368241 and parameters: {'n_estimators': 6000, 'max_depth': 7, 'learning_rate': 0.0046143472503868905, 'subsample': 0.33724550142665655, 'colsample_bytree': 0.2512975372389044, 'min_child_weight': 8, 'reg_alpha': 0.12799758729172495, 'reg_lambda': 0.6025662231110469, 'early_stopping_rounds': 21}. Best is trial 42 with value: 947.9973350349635.\n",
      "[I 2023-07-09 17:53:16,889] Trial 54 finished with value: 951.6816918262382 and parameters: {'n_estimators': 5000, 'max_depth': 8, 'learning_rate': 0.0023987234927755952, 'subsample': 0.2847587428974448, 'colsample_bytree': 0.18404464405701243, 'min_child_weight': 7, 'reg_alpha': 0.2255712909215047, 'reg_lambda': 0.6669579759028809, 'early_stopping_rounds': 33}. Best is trial 42 with value: 947.9973350349635.\n",
      "[I 2023-07-09 17:53:35,397] Trial 55 finished with value: 955.6432812466091 and parameters: {'n_estimators': 4000, 'max_depth': 8, 'learning_rate': 0.002132937080484473, 'subsample': 0.17691118182686816, 'colsample_bytree': 0.19186433812502637, 'min_child_weight': 7, 'reg_alpha': 0.23556710011214974, 'reg_lambda': 0.7587119441658402, 'early_stopping_rounds': 34}. Best is trial 42 with value: 947.9973350349635.\n",
      "[I 2023-07-09 17:53:52,995] Trial 56 finished with value: 965.9599899191938 and parameters: {'n_estimators': 4000, 'max_depth': 8, 'learning_rate': 0.0023343984700756014, 'subsample': 0.18511228144314928, 'colsample_bytree': 0.20344693978758172, 'min_child_weight': 7, 'reg_alpha': 0.22448003556069987, 'reg_lambda': 0.7485476354359655, 'early_stopping_rounds': 33}. Best is trial 42 with value: 947.9973350349635.\n",
      "[I 2023-07-09 17:54:07,630] Trial 57 finished with value: 1028.8916190742789 and parameters: {'n_estimators': 5000, 'max_depth': 8, 'learning_rate': 0.0033538734895228453, 'subsample': 0.13189697974376907, 'colsample_bytree': 0.32698505623870444, 'min_child_weight': 6, 'reg_alpha': 0.36640063492412334, 'reg_lambda': 0.5464223305522188, 'early_stopping_rounds': 37}. Best is trial 42 with value: 947.9973350349635.\n",
      "[I 2023-07-09 17:54:28,563] Trial 58 finished with value: 987.4437118319227 and parameters: {'n_estimators': 2000, 'max_depth': 9, 'learning_rate': 0.0029072807921004013, 'subsample': 0.20871204525115264, 'colsample_bytree': 0.29123763036889083, 'min_child_weight': 7, 'reg_alpha': 0.24750792316897707, 'reg_lambda': 0.6127288760091212, 'early_stopping_rounds': 35}. Best is trial 42 with value: 947.9973350349635.\n",
      "[I 2023-07-09 17:54:43,738] Trial 59 finished with value: 966.3182434811579 and parameters: {'n_estimators': 4000, 'max_depth': 8, 'learning_rate': 0.0018717895627512224, 'subsample': 0.16504114287702717, 'colsample_bytree': 0.12396575276943506, 'min_child_weight': 4, 'reg_alpha': 0.32253452037029595, 'reg_lambda': 0.6578611988766417, 'early_stopping_rounds': 27}. Best is trial 42 with value: 947.9973350349635.\n",
      "[I 2023-07-09 17:54:59,934] Trial 60 finished with value: 961.2650439760413 and parameters: {'n_estimators': 5000, 'max_depth': 7, 'learning_rate': 0.0023825553940375935, 'subsample': 0.24182817959809605, 'colsample_bytree': 0.18814172204991478, 'min_child_weight': 5, 'reg_alpha': 0.03405129310281599, 'reg_lambda': 0.7375170387170076, 'early_stopping_rounds': 41}. Best is trial 42 with value: 947.9973350349635.\n",
      "[I 2023-07-09 17:55:18,415] Trial 61 finished with value: 961.4528374802495 and parameters: {'n_estimators': 5000, 'max_depth': 7, 'learning_rate': 0.0022378979134502776, 'subsample': 0.24127865333954013, 'colsample_bytree': 0.20097284901993312, 'min_child_weight': 7, 'reg_alpha': 0.031249224431987327, 'reg_lambda': 0.7139358535546796, 'early_stopping_rounds': 46}. Best is trial 42 with value: 947.9973350349635.\n",
      "[I 2023-07-09 17:55:29,877] Trial 62 finished with value: 988.7057437893734 and parameters: {'n_estimators': 5000, 'max_depth': 8, 'learning_rate': 0.0026546094825819085, 'subsample': 0.20405765608877363, 'colsample_bytree': 0.10122101553538818, 'min_child_weight': 5, 'reg_alpha': 0.0886404999809969, 'reg_lambda': 0.7681171277555591, 'early_stopping_rounds': 40}. Best is trial 42 with value: 947.9973350349635.\n",
      "[I 2023-07-09 17:55:41,618] Trial 63 finished with value: 948.8871318216181 and parameters: {'n_estimators': 4000, 'max_depth': 7, 'learning_rate': 0.003078659469775566, 'subsample': 0.14522473800012473, 'colsample_bytree': 0.18148231617695854, 'min_child_weight': 6, 'reg_alpha': 0.03151985649993824, 'reg_lambda': 0.7362117662272307, 'early_stopping_rounds': 47}. Best is trial 42 with value: 947.9973350349635.\n",
      "[I 2023-07-09 17:55:50,872] Trial 64 finished with value: 966.902878219693 and parameters: {'n_estimators': 4000, 'max_depth': 9, 'learning_rate': 0.0032895875474874938, 'subsample': 0.1408758622653168, 'colsample_bytree': 0.1407608951659472, 'min_child_weight': 6, 'reg_alpha': 0.1709436143068927, 'reg_lambda': 0.6481119308214423, 'early_stopping_rounds': 47}. Best is trial 42 with value: 947.9973350349635.\n",
      "[I 2023-07-09 17:55:59,288] Trial 65 finished with value: 982.2590964050636 and parameters: {'n_estimators': 3000, 'max_depth': 8, 'learning_rate': 0.004263650224971563, 'subsample': 0.139460094324256, 'colsample_bytree': 0.18074439950207566, 'min_child_weight': 8, 'reg_alpha': 0.12734312098962208, 'reg_lambda': 0.6001761289542552, 'early_stopping_rounds': 30}. Best is trial 42 with value: 947.9973350349635.\n",
      "[I 2023-07-09 17:56:12,568] Trial 66 finished with value: 975.360565344555 and parameters: {'n_estimators': 3000, 'max_depth': 8, 'learning_rate': 0.002882293547509758, 'subsample': 0.10555282423093387, 'colsample_bytree': 0.266806856765877, 'min_child_weight': 7, 'reg_alpha': 0.08428969773449438, 'reg_lambda': 0.7100858538553125, 'early_stopping_rounds': 49}. Best is trial 42 with value: 947.9973350349635.\n",
      "[I 2023-07-09 17:56:24,366] Trial 67 finished with value: 988.7647060484004 and parameters: {'n_estimators': 4000, 'max_depth': 7, 'learning_rate': 0.0035290647398144416, 'subsample': 0.18477926804012343, 'colsample_bytree': 0.23440474168918046, 'min_child_weight': 7, 'reg_alpha': 0.21659797022839844, 'reg_lambda': 0.7769336465466758, 'early_stopping_rounds': 36}. Best is trial 42 with value: 947.9973350349635.\n",
      "[I 2023-07-09 17:56:37,732] Trial 68 finished with value: 976.4165447092997 and parameters: {'n_estimators': 2000, 'max_depth': 10, 'learning_rate': 0.004033639923732466, 'subsample': 0.15705836909278573, 'colsample_bytree': 0.21710959259845947, 'min_child_weight': 6, 'reg_alpha': 0.1687966274032883, 'reg_lambda': 0.6809759733004093, 'early_stopping_rounds': 43}. Best is trial 42 with value: 947.9973350349635.\n",
      "[I 2023-07-09 17:56:46,839] Trial 69 finished with value: 957.3786277107025 and parameters: {'n_estimators': 6000, 'max_depth': 9, 'learning_rate': 0.005497570096766923, 'subsample': 0.2789783443858169, 'colsample_bytree': 0.17105581365947992, 'min_child_weight': 8, 'reg_alpha': 0.12852842037223403, 'reg_lambda': 0.7448312983380279, 'early_stopping_rounds': 33}. Best is trial 42 with value: 947.9973350349635.\n",
      "[I 2023-07-09 17:56:50,222] Trial 70 finished with value: 1386.5236525819612 and parameters: {'n_estimators': 5000, 'max_depth': 1, 'learning_rate': 0.003061744633797821, 'subsample': 0.22321584024036095, 'colsample_bytree': 0.3473483686762927, 'min_child_weight': 6, 'reg_alpha': 0.024994820398987413, 'reg_lambda': 0.8411857341620822, 'early_stopping_rounds': 38}. Best is trial 42 with value: 947.9973350349635.\n",
      "[I 2023-07-09 17:56:59,018] Trial 71 finished with value: 975.9946659495648 and parameters: {'n_estimators': 6000, 'max_depth': 9, 'learning_rate': 0.005640563748160506, 'subsample': 0.27533415553046675, 'colsample_bytree': 0.17811597315356917, 'min_child_weight': 8, 'reg_alpha': 0.11711494264214037, 'reg_lambda': 0.7333405567351364, 'early_stopping_rounds': 35}. Best is trial 42 with value: 947.9973350349635.\n",
      "[I 2023-07-09 17:57:05,640] Trial 72 finished with value: 952.3043553057968 and parameters: {'n_estimators': 6000, 'max_depth': 9, 'learning_rate': 0.00638171891499111, 'subsample': 0.28541848085641336, 'colsample_bytree': 0.129832055601576, 'min_child_weight': 7, 'reg_alpha': 0.06998816860630808, 'reg_lambda': 0.6569168423591127, 'early_stopping_rounds': 33}. Best is trial 42 with value: 947.9973350349635.\n",
      "[I 2023-07-09 17:57:15,203] Trial 73 finished with value: 964.8245194762042 and parameters: {'n_estimators': 6000, 'max_depth': 8, 'learning_rate': 0.003531111117029355, 'subsample': 0.19508171131499993, 'colsample_bytree': 0.12994223189176057, 'min_child_weight': 7, 'reg_alpha': 0.08874389892040957, 'reg_lambda': 0.6631347575427915, 'early_stopping_rounds': 30}. Best is trial 42 with value: 947.9973350349635.\n",
      "[I 2023-07-09 17:57:20,829] Trial 74 finished with value: 941.3065298093802 and parameters: {'n_estimators': 3000, 'max_depth': 9, 'learning_rate': 0.0068642158881648905, 'subsample': 0.22953171469973221, 'colsample_bytree': 0.14682722390785355, 'min_child_weight': 6, 'reg_alpha': 0.15347214538254925, 'reg_lambda': 0.6220428683297492, 'early_stopping_rounds': 34}. Best is trial 74 with value: 941.3065298093802.\n",
      "[I 2023-07-09 17:57:27,612] Trial 75 finished with value: 978.3239152904739 and parameters: {'n_estimators': 3000, 'max_depth': 9, 'learning_rate': 0.008093874442325004, 'subsample': 0.2522407393806462, 'colsample_bytree': 0.20607710496131704, 'min_child_weight': 6, 'reg_alpha': 0.005012383608141241, 'reg_lambda': 0.6331905485807637, 'early_stopping_rounds': 34}. Best is trial 74 with value: 941.3065298093802.\n",
      "[I 2023-07-09 17:57:35,933] Trial 76 finished with value: 965.2617152390659 and parameters: {'n_estimators': 3000, 'max_depth': 10, 'learning_rate': 0.006439448868551905, 'subsample': 0.3356294023432346, 'colsample_bytree': 0.15804957771793246, 'min_child_weight': 5, 'reg_alpha': 0.06816523442887391, 'reg_lambda': 0.5932602615035509, 'early_stopping_rounds': 32}. Best is trial 74 with value: 941.3065298093802.\n",
      "[I 2023-07-09 17:57:53,029] Trial 77 finished with value: 975.723180035028 and parameters: {'n_estimators': 2000, 'max_depth': 9, 'learning_rate': 0.004003974793984412, 'subsample': 0.29963096302062386, 'colsample_bytree': 0.24758108804722723, 'min_child_weight': 7, 'reg_alpha': 0.16627227480174223, 'reg_lambda': 0.6269048065321273, 'early_stopping_rounds': 45}. Best is trial 74 with value: 941.3065298093802.\n",
      "[I 2023-07-09 17:58:02,543] Trial 78 finished with value: 1016.5798495096154 and parameters: {'n_estimators': 4000, 'max_depth': 10, 'learning_rate': 0.007326940224704023, 'subsample': 0.2296914191034206, 'colsample_bytree': 0.2767890315557724, 'min_child_weight': 5, 'reg_alpha': 0.25528303275984615, 'reg_lambda': 0.5446646660512803, 'early_stopping_rounds': 37}. Best is trial 74 with value: 941.3065298093802.\n",
      "[I 2023-07-09 17:58:07,052] Trial 79 finished with value: 964.5572374991432 and parameters: {'n_estimators': 1000, 'max_depth': 8, 'learning_rate': 0.008812223088379012, 'subsample': 0.16462447831093555, 'colsample_bytree': 0.18834090093033853, 'min_child_weight': 7, 'reg_alpha': 0.1983986582571786, 'reg_lambda': 0.6458352807932293, 'early_stopping_rounds': 31}. Best is trial 74 with value: 941.3065298093802.\n",
      "[I 2023-07-09 17:58:14,655] Trial 80 finished with value: 1009.954832506452 and parameters: {'n_estimators': 4000, 'max_depth': 7, 'learning_rate': 0.00516763375494679, 'subsample': 0.1186089156145423, 'colsample_bytree': 0.304433242961589, 'min_child_weight': 6, 'reg_alpha': 0.15396757834027697, 'reg_lambda': 0.6661202652968754, 'early_stopping_rounds': 29}. Best is trial 74 with value: 941.3065298093802.\n",
      "[I 2023-07-09 17:58:17,957] Trial 81 finished with value: 980.2190506248288 and parameters: {'n_estimators': 5000, 'max_depth': 5, 'learning_rate': 0.006506149486291339, 'subsample': 0.22613245447802188, 'colsample_bytree': 0.12584306902287457, 'min_child_weight': 9, 'reg_alpha': 0.11283366757152942, 'reg_lambda': 0.7061625063795758, 'early_stopping_rounds': 24}. Best is trial 74 with value: 941.3065298093802.\n",
      "[I 2023-07-09 17:58:25,339] Trial 82 finished with value: 966.2096203084833 and parameters: {'n_estimators': 6000, 'max_depth': 9, 'learning_rate': 0.0049960174359440935, 'subsample': 0.18886946298591803, 'colsample_bytree': 0.14805686869178172, 'min_child_weight': 8, 'reg_alpha': 0.1435420650371026, 'reg_lambda': 0.7804345374032933, 'early_stopping_rounds': 34}. Best is trial 74 with value: 941.3065298093802.\n",
      "[I 2023-07-09 17:58:32,489] Trial 83 finished with value: 991.361427043628 and parameters: {'n_estimators': 4000, 'max_depth': 8, 'learning_rate': 0.004511123367296737, 'subsample': 0.26988017558918725, 'colsample_bytree': 0.10284464586775699, 'min_child_weight': 7, 'reg_alpha': 0.22698617943024366, 'reg_lambda': 0.6814444894138166, 'early_stopping_rounds': 47}. Best is trial 74 with value: 941.3065298093802.\n",
      "[I 2023-07-09 17:58:46,126] Trial 84 finished with value: 964.1935230874975 and parameters: {'n_estimators': 5000, 'max_depth': 7, 'learning_rate': 0.0026098477265459556, 'subsample': 0.28737424805517064, 'colsample_bytree': 0.1526903041305145, 'min_child_weight': 8, 'reg_alpha': 0.18542047291147074, 'reg_lambda': 0.6205040474365013, 'early_stopping_rounds': 19}. Best is trial 74 with value: 941.3065298093802.\n",
      "[I 2023-07-09 17:58:52,896] Trial 85 finished with value: 1022.5449854375661 and parameters: {'n_estimators': 3000, 'max_depth': 4, 'learning_rate': 0.004178280421250123, 'subsample': 0.24959223038432482, 'colsample_bytree': 0.22203304612901997, 'min_child_weight': 6, 'reg_alpha': 0.06739332436739959, 'reg_lambda': 0.7249371793835686, 'early_stopping_rounds': 32}. Best is trial 74 with value: 941.3065298093802.\n",
      "[I 2023-07-09 17:58:57,202] Trial 86 finished with value: 984.9699806482449 and parameters: {'n_estimators': 6000, 'max_depth': 8, 'learning_rate': 0.007167036428591518, 'subsample': 0.20791381031062506, 'colsample_bytree': 0.11540414395128827, 'min_child_weight': 8, 'reg_alpha': 0.10688118967179361, 'reg_lambda': 0.6925707465241508, 'early_stopping_rounds': 28}. Best is trial 74 with value: 941.3065298093802.\n",
      "[I 2023-07-09 17:59:11,289] Trial 87 finished with value: 981.0634378464376 and parameters: {'n_estimators': 7000, 'max_depth': 5, 'learning_rate': 0.0020988707246864433, 'subsample': 0.25655729883727924, 'colsample_bytree': 0.17061574079883857, 'min_child_weight': 2, 'reg_alpha': 0.20574259637899397, 'reg_lambda': 0.768143221051897, 'early_stopping_rounds': 22}. Best is trial 74 with value: 941.3065298093802.\n",
      "[I 2023-07-09 17:59:21,051] Trial 88 finished with value: 992.4972616527372 and parameters: {'n_estimators': 5000, 'max_depth': 9, 'learning_rate': 0.005720914431951856, 'subsample': 0.2988240329899179, 'colsample_bytree': 0.20004138732947174, 'min_child_weight': 7, 'reg_alpha': 0.1484312093294347, 'reg_lambda': 0.5884477441791084, 'early_stopping_rounds': 27}. Best is trial 74 with value: 941.3065298093802.\n",
      "[I 2023-07-09 17:59:37,265] Trial 89 finished with value: 971.0346196429991 and parameters: {'n_estimators': 6000, 'max_depth': 10, 'learning_rate': 0.003130764092964666, 'subsample': 0.33813808497592224, 'colsample_bytree': 0.14264394613795192, 'min_child_weight': 6, 'reg_alpha': 0.035893312919033915, 'reg_lambda': 0.6665978191682249, 'early_stopping_rounds': 49}. Best is trial 74 with value: 941.3065298093802.\n",
      "[I 2023-07-09 17:59:45,310] Trial 90 finished with value: 974.3532635731419 and parameters: {'n_estimators': 3000, 'max_depth': 6, 'learning_rate': 0.0038876573085503143, 'subsample': 0.13734914847310734, 'colsample_bytree': 0.24073427307431633, 'min_child_weight': 9, 'reg_alpha': 0.2375602493982657, 'reg_lambda': 0.7503107846597699, 'early_stopping_rounds': 20}. Best is trial 74 with value: 941.3065298093802.\n",
      "[I 2023-07-09 17:59:54,870] Trial 91 finished with value: 960.7940486466943 and parameters: {'n_estimators': 6000, 'max_depth': 9, 'learning_rate': 0.005111242491189548, 'subsample': 0.28168196000267604, 'colsample_bytree': 0.17164790696614973, 'min_child_weight': 8, 'reg_alpha': 0.12978413054431448, 'reg_lambda': 0.7344807540868173, 'early_stopping_rounds': 33}. Best is trial 74 with value: 941.3065298093802.\n",
      "[I 2023-07-09 18:00:01,578] Trial 92 finished with value: 977.4252352036912 and parameters: {'n_estimators': 6000, 'max_depth': 9, 'learning_rate': 0.005447700661437392, 'subsample': 0.22356565212508, 'colsample_bytree': 0.12481095161709573, 'min_child_weight': 9, 'reg_alpha': 0.07972446967661698, 'reg_lambda': 0.7924218219565834, 'early_stopping_rounds': 36}. Best is trial 74 with value: 941.3065298093802.\n",
      "[I 2023-07-09 18:00:08,660] Trial 93 finished with value: 952.7954796089963 and parameters: {'n_estimators': 5000, 'max_depth': 8, 'learning_rate': 0.006023606742018657, 'subsample': 0.2630111230763443, 'colsample_bytree': 0.16893958561025174, 'min_child_weight': 8, 'reg_alpha': 0.1749368427566024, 'reg_lambda': 0.7009297796941375, 'early_stopping_rounds': 34}. Best is trial 74 with value: 941.3065298093802.\n",
      "[I 2023-07-09 18:00:15,440] Trial 94 finished with value: 978.6775399155907 and parameters: {'n_estimators': 5000, 'max_depth': 8, 'learning_rate': 0.00613709143595973, 'subsample': 0.17562751505031537, 'colsample_bytree': 0.19235992163256918, 'min_child_weight': 7, 'reg_alpha': 0.17643115743966445, 'reg_lambda': 0.6995577751334253, 'early_stopping_rounds': 34}. Best is trial 74 with value: 941.3065298093802.\n",
      "[I 2023-07-09 18:00:24,403] Trial 95 finished with value: 936.1074943451031 and parameters: {'n_estimators': 4000, 'max_depth': 8, 'learning_rate': 0.004364259842687196, 'subsample': 0.26230237953336155, 'colsample_bytree': 0.14724757895978374, 'min_child_weight': 7, 'reg_alpha': 0.10179259338554411, 'reg_lambda': 0.6521793575861721, 'early_stopping_rounds': 38}. Best is trial 95 with value: 936.1074943451031.\n",
      "[I 2023-07-09 18:00:38,319] Trial 96 finished with value: 952.1041970282679 and parameters: {'n_estimators': 4000, 'max_depth': 7, 'learning_rate': 0.003612090379771562, 'subsample': 0.3099730844384895, 'colsample_bytree': 0.21317882613715083, 'min_child_weight': 7, 'reg_alpha': 0.10042110119077963, 'reg_lambda': 0.6212540083476945, 'early_stopping_rounds': 38}. Best is trial 95 with value: 936.1074943451031.\n",
      "[I 2023-07-09 18:00:52,221] Trial 97 finished with value: 941.7125844248009 and parameters: {'n_estimators': 4000, 'max_depth': 7, 'learning_rate': 0.003630870919832131, 'subsample': 0.3286773301569851, 'colsample_bytree': 0.2219296965704986, 'min_child_weight': 8, 'reg_alpha': 0.10213749189748356, 'reg_lambda': 0.609078609636744, 'early_stopping_rounds': 39}. Best is trial 95 with value: 936.1074943451031.\n",
      "[I 2023-07-09 18:01:07,971] Trial 98 finished with value: 1004.6018586720406 and parameters: {'n_estimators': 4000, 'max_depth': 7, 'learning_rate': 0.0036539966782884532, 'subsample': 0.3203168259659511, 'colsample_bytree': 0.2655309355755922, 'min_child_weight': 8, 'reg_alpha': 0.043549064585995056, 'reg_lambda': 0.6158413349823662, 'early_stopping_rounds': 39}. Best is trial 95 with value: 936.1074943451031.\n",
      "[I 2023-07-09 18:01:20,155] Trial 99 finished with value: 970.1189315318447 and parameters: {'n_estimators': 4000, 'max_depth': 7, 'learning_rate': 0.0045448819724642755, 'subsample': 0.3599619792433474, 'colsample_bytree': 0.21530281925110417, 'min_child_weight': 7, 'reg_alpha': 0.06237223791070559, 'reg_lambda': 0.5798112131268852, 'early_stopping_rounds': 41}. Best is trial 95 with value: 936.1074943451031.\n"
     ]
    }
   ],
   "source": [
    "import optuna\n",
    "from sklearn.metrics import mean_squared_error\n",
    "from math import sqrt\n",
    "\n",
    "\n",
    "X = df[ctrl_tag+ind_tag]\n",
    "y = df[cfg.kpi1.tag1]\n",
    "\n",
    "# Split the data into train and validation sets\n",
    "# X_train, X_temp, y_train, y_temp = train_test_split(X, y, test_size=0.2, shuffle=False, random_state=42)\n",
    "# X_val, X_test, y_val, y_test = train_test_split(X_temp, y_temp, test_size=0.5, shuffle=False, random_state=42)\n",
    "X_train, X_test, y_train, y_test = train_test_split(X, y, test_size=0.1, random_state=42, shuffle=False)\n",
    "\n",
    "\n",
    "# Define the objective function to be optimized\n",
    "def objective(trial):\n",
    "    # Define the search space for hyperparameters\n",
    "    params = {\n",
    "        'n_estimators': trial.suggest_int('n_estimators', 1000, 10000, step=1000),\n",
    "        'max_depth': trial.suggest_int('max_depth', 1, 10),\n",
    "        'learning_rate': trial.suggest_loguniform('learning_rate', 0.001, 0.1),\n",
    "        'subsample': trial.suggest_uniform('subsample', 0.1, 1),\n",
    "        'colsample_bytree': trial.suggest_uniform('colsample_bytree', 0.1, 1),\n",
    "        'min_child_weight': trial.suggest_int('min_child_weight', 1, 10),\n",
    "        'reg_alpha': trial.suggest_float('reg_alpha', 0.0, 1.0),\n",
    "        'reg_lambda': trial.suggest_float('reg_lambda', 0.0, 1.0),\n",
    "        'early_stopping_rounds': trial.suggest_int('early_stopping_rounds', 10, 50),\n",
    "    }\n",
    "\n",
    "    # Create and train the XGBRegressor with the specified hyperparameters\n",
    "    model = XGBRegressor(**params)\n",
    "    model.fit(X_train, y_train,\n",
    "              eval_set=[(X_train, y_train), (X_test, y_test)],\n",
    "              verbose=False)\n",
    "\n",
    "    # Evaluate the model on the validation set\n",
    "    y_pred = model.predict(X_test)\n",
    "    rmse = sqrt(mean_squared_error(y_test, y_pred))\n",
    "\n",
    "    return rmse\n",
    "\n",
    "# Create an Optuna study and optimize the objective function\n",
    "study = optuna.create_study(direction='minimize')\n",
    "study.optimize(objective, n_trials=100)"
   ]
  },
  {
   "cell_type": "code",
   "execution_count": 206,
   "id": "ff699f2f",
   "metadata": {},
   "outputs": [
    {
     "name": "stdout",
     "output_type": "stream",
     "text": [
      "Best Hyperparameters: {'n_estimators': 4000, 'max_depth': 8, 'learning_rate': 0.004364259842687196, 'subsample': 0.26230237953336155, 'colsample_bytree': 0.14724757895978374, 'min_child_weight': 7, 'reg_alpha': 0.10179259338554411, 'reg_lambda': 0.6521793575861721, 'early_stopping_rounds': 38}\n"
     ]
    }
   ],
   "source": [
    "# Get the best hyperparameters\n",
    "best_params = study.best_params\n",
    "print(\"Best Hyperparameters:\", best_params)"
   ]
  },
  {
   "cell_type": "code",
   "execution_count": null,
   "id": "0b8d2f26",
   "metadata": {},
   "outputs": [],
   "source": [
    "# train the final model\n",
    "final_model = XGBRegressor(**best_params)\n",
    "final_model.fit(X_train, y_train, eval_set=[(X_test, y_test)], verbose=False)\n",
    "\n",
    "# Evaluate the final model on the test set\n",
    "y_pred_test = final_model.predict(X_test)\n",
    "rmse_test = sqrt(mean_squared_error(y_test, y_pred_test))\n",
    "print(\"Test RMSE:\", rmse_test)"
   ]
  },
  {
   "cell_type": "code",
   "execution_count": 209,
   "id": "30478d88-dc6c-4835-8608-9e922e8be37d",
   "metadata": {},
   "outputs": [
    {
     "data": {
      "image/png": "[encoded data removed]",
      "text/plain": [
       "<Figure size 640x480 with 1 Axes>"
      ]
     },
     "metadata": {},
     "output_type": "display_data"
    }
   ],
   "source": [
    "# my_model = XGBRegressor(**Config.xgboost_regressor_config.model_config)\n",
    "my_model = XGBRegressor(**best_params)\n",
    "\n",
    "X = df[ctrl_tag+ind_tag]\n",
    "# y = df['kpi1']\n",
    "y = df[cfg.kpi1.tag1]\n",
    "\n",
    "train_data, test_data, train_target, test_target = train_test_split(X, y, **Config.xgboost_regressor_config.train_config)\n",
    "\n",
    "my_model.fit(train_data, train_target, \n",
    "             eval_set=[(train_data, train_target),(test_data, test_target)], verbose=False)\n",
    "# my_model.fit(X_train, y_train,\n",
    "#             eval_set=[(X_train, y_train), (X_test, y_test)],\n",
    "#             verbose=False)\n",
    "\n",
    "results = my_model.evals_result()\n",
    "\n",
    "# plot learning curves\n",
    "plt.plot(results['validation_0']['rmse'], label='train')\n",
    "plt.plot(results['validation_1']['rmse'], label='validation')\n",
    "# show the legend\n",
    "plt.legend()\n",
    "# show the plot\n",
    "plt.show()"
   ]
  },
  {
   "cell_type": "code",
   "execution_count": 210,
   "id": "1d232929",
   "metadata": {},
   "outputs": [
    {
     "name": "stdout",
     "output_type": "stream",
     "text": [
      "Train RMSE: 1065.59\n",
      "Test RMSE: 942.36\n"
     ]
    }
   ],
   "source": [
    "# print the rmse for the train and test sets\n",
    "print(\"Train RMSE: %.2f\" % (results['validation_0']['rmse'][-1]))\n",
    "print(\"Test RMSE: %.2f\" % (results['validation_1']['rmse'][-1]))\n",
    "# # print the r^2 for the train and test sets\n",
    "# print(\"Train R2: %.2f\" % (results['validation_0']['r2'][-1]))\n",
    "# print(\"Test R2: %.2f\" % (results['validation_1']['r2'][-1]))"
   ]
  },
  {
   "cell_type": "code",
   "execution_count": 57,
   "id": "abdfe0a5",
   "metadata": {},
   "outputs": [],
   "source": [
    "# save\n",
    "pickle.dump(my_model, open(Config.xgboost_regressor_config.model_path, \"wb\"))"
   ]
  },
  {
   "cell_type": "code",
   "execution_count": 58,
   "id": "929eab17",
   "metadata": {},
   "outputs": [
    {
     "data": {
      "image/png": "[encoded data removed]",
      "text/plain": [
       "<Figure size 640x480 with 1 Axes>"
      ]
     },
     "metadata": {},
     "output_type": "display_data"
    }
   ],
   "source": [
    "# load the model\n",
    "loaded_model = pickle.load(open(Config.xgboost_regressor_config.model_path, \"rb\"))\n",
    "# get the feature importance for ctrl_tag\n",
    "importance = loaded_model.feature_importances_[:len(ctrl_tag)]\n",
    "# plot feature importance, add names\n",
    "plt.bar([x for x in range(len(importance))], importance)\n",
    "plt.xticks([x for x in range(len(importance))], ctrl_tag, rotation='vertical')\n",
    "plt.show()"
   ]
  },
  {
   "cell_type": "code",
   "execution_count": 211,
   "id": "8bc7dd3d-26bc-47ae-948d-78ab7148bce8",
   "metadata": {},
   "outputs": [
    {
     "data": {
      "text/plain": [
       "[<matplotlib.lines.Line2D at 0x1dd961a1290>]"
      ]
     },
     "execution_count": 211,
     "metadata": {},
     "output_type": "execute_result"
    },
    {
     "data": {
      "image/png": "[encoded data removed]",
      "text/plain": [
       "<Figure size 640x480 with 1 Axes>"
      ]
     },
     "metadata": {},
     "output_type": "display_data"
    }
   ],
   "source": [
    "plt.plot(train_data.index, train_target)\n",
    "plt.plot(train_data.index, my_model.predict(train_data))"
   ]
  },
  {
   "cell_type": "code",
   "execution_count": 212,
   "id": "cc5ec658-9875-4d2c-83fa-72454037a02d",
   "metadata": {},
   "outputs": [
    {
     "data": {
      "text/plain": [
       "[<matplotlib.lines.Line2D at 0x1dd96013090>]"
      ]
     },
     "execution_count": 212,
     "metadata": {},
     "output_type": "execute_result"
    },
    {
     "data": {
      "image/png": "[encoded data removed]",
      "text/plain": [
       "<Figure size 640x480 with 1 Axes>"
      ]
     },
     "metadata": {},
     "output_type": "display_data"
    }
   ],
   "source": [
    "plt.plot(test_data.index, test_target)\n",
    "plt.plot(test_data.index, my_model.predict(test_data))"
   ]
  },
  {
   "attachments": {},
   "cell_type": "markdown",
   "id": "8a00af4c",
   "metadata": {},
   "source": [
    "#### Optimization"
   ]
  },
  {
   "cell_type": "code",
   "execution_count": 59,
   "id": "27d011b5-2e0b-4895-991a-b5b9f3c162b9",
   "metadata": {},
   "outputs": [],
   "source": [
    "from tqdm.notebook import tqdm_notebook\n",
    "\n",
    "from utils.util import read_json, read_pickle, write_json\n",
    "from utils.eda_tools import single_column_vis, lines_plot\n",
    "from utils.optimization_result_vis import Controllable_Value_Plot\n",
    "\n",
    "from optimization.Features import Feature_Info, get_feature_full_name\n",
    "from optimization.Data import IncomingData, Missing_info\n",
    "from optimization.Bounds import Bounds\n",
    "from optimization.Dual_Annealing_Optimization import Dual_Annealing_Optimization"
   ]
  },
  {
   "cell_type": "code",
   "execution_count": 58,
   "id": "89ec1caf-d5a4-44b2-8b3a-1b06a908ce3d",
   "metadata": {},
   "outputs": [],
   "source": [
    "ctrl_tag_length = len(ctrl_tag)\n",
    "difference_quantile = (df.iloc[:, :ctrl_tag_length].shift(1)-df.iloc[:, :ctrl_tag_length]).quantile(0.95)\n",
    "\n",
    "mean_of_controllable = df.iloc[:, :ctrl_tag_length].mean()\n",
    "\n",
    "ctrl_change_rate = (difference_quantile/mean_of_controllable).values\n",
    "\n",
    "# Upper and Lower bounds historically, which directives can never exceed\n",
    "quantile_lower = [df[tag].quantile(0.05) for tag in ctrl_tag]\n",
    "quantile_upper = [df[tag].quantile(0.95) for tag in ctrl_tag]\n",
    "bounds = [list(bound) for bound in zip(quantile_lower, quantile_upper)]\n",
    "\n",
    "cont_dict = {tag:{'max_rate': rate,'bounds':bound} for tag,rate,bound in zip(ctrl_tag, ctrl_change_rate, bounds)}\n",
    "\n",
    "# generate optimizer.json\n",
    "opt_dict = dict()\n",
    "opt_dict['controllable'] = cont_dict\n",
    "opt_dict['noncontrollable'] = [tag for tag in ind_tag]\n",
    "\n",
    "opt_dict['kwargs'] = {'maxiter': 10}"
   ]
  },
  {
   "cell_type": "code",
   "execution_count": 59,
   "id": "0ddabc15-7784-4daf-9ec4-f787415df864",
   "metadata": {},
   "outputs": [],
   "source": [
    "test_df = df[ctrl_tag+ind_tag].loc['2022-01-01':]"
   ]
  },
  {
   "cell_type": "code",
   "execution_count": 60,
   "id": "49a5eb6c-e283-4382-93eb-2c868d61354c",
   "metadata": {},
   "outputs": [],
   "source": [
    "test_df.columns = [column+'___Value' for column in test_df.columns]\n",
    "\n",
    "features = Feature_Info(opt_dict)\n",
    "incoming_data = IncomingData(test_df, features)\n",
    "\n",
    "# bounds = Bounds(incoming_data).final_bounds()\n",
    "bounds = [tuple(bound) for bound in zip(quantile_lower, quantile_upper)]\n",
    "\n",
    "Optimization = Dual_Annealing_Optimization(incoming_data, my_model)"
   ]
  },
  {
   "cell_type": "code",
   "execution_count": 61,
   "id": "98049368-ff64-4142-8769-1a077dfe2532",
   "metadata": {},
   "outputs": [
    {
     "data": {
      "application/vnd.jupyter.widget-view+json": {
       "model_id": "978061f9ebe249379602fc150ca549df",
       "version_major": 2,
       "version_minor": 0
      },
      "text/plain": [
       "  0%|          | 0/8617 [00:00<?, ?it/s]"
      ]
     },
     "metadata": {},
     "output_type": "display_data"
    }
   ],
   "source": [
    "nrows = incoming_data.value.shape[0]\n",
    "optimal_controls = [None] * nrows\n",
    "optimized_final_product = [None] * nrows\n",
    "\n",
    "for i in tqdm_notebook(range(nrows)):\n",
    "    timestamp = incoming_data.value.index[i]\n",
    "    #bound = bounds[i]\n",
    "    bound = bounds\n",
    "    \n",
    "    optimal_controls_vals, optimized_product = Optimization.run_optimization(timestamp, bound)\n",
    "    optimal_controls[i] = optimal_controls_vals\n",
    "    optimized_final_product[i] = optimized_product"
   ]
  },
  {
   "cell_type": "code",
   "execution_count": 62,
   "id": "6c35d224-68bd-4deb-be0a-862a9bc74874",
   "metadata": {},
   "outputs": [],
   "source": [
    "test_df.columns = [column.replace('___Value', '') for column in test_df.columns]"
   ]
  },
  {
   "cell_type": "code",
   "execution_count": 63,
   "id": "2a66e65d-45a7-477b-a725-475172455efd",
   "metadata": {},
   "outputs": [],
   "source": [
    "result_df = pd.DataFrame(optimal_controls, columns=[tag + '_Optimized' for tag in ctrl_tag], index=test_df.index[:nrows])\n",
    "result_df['LNG_optimized'] = np.array(optimized_final_product).flatten()\n",
    "result_df['LNG_before_optimized'] = (my_model.predict(test_df[ctrl_tag+ind_tag]))"
   ]
  },
  {
   "cell_type": "code",
   "execution_count": 64,
   "id": "f2c62ef5",
   "metadata": {},
   "outputs": [
    {
     "data": {
      "text/plain": [
       "((8617, 584), (8617, 62))"
      ]
     },
     "execution_count": 64,
     "metadata": {},
     "output_type": "execute_result"
    }
   ],
   "source": [
    "test_df.shape, result_df.shape"
   ]
  },
  {
   "cell_type": "code",
   "execution_count": 65,
   "id": "08be4317-72f1-496f-81c6-2300d13ff787",
   "metadata": {},
   "outputs": [],
   "source": [
    "final_df = pd.merge(result_df, test_df, left_index=True, right_index=True) # 62(60 cvs + 2 LNG) columns of the result_df + 584 columns of the test_df"
   ]
  },
  {
   "cell_type": "code",
   "execution_count": 66,
   "id": "08cdf598-84a7-4e6e-b615-158bc1ec81b3",
   "metadata": {},
   "outputs": [],
   "source": [
    "Controllables_number_in_one_plot = 7"
   ]
  },
  {
   "cell_type": "code",
   "execution_count": 71,
   "id": "05b29ba4-4095-4bf2-99d9-1cf83d38e2e8",
   "metadata": {},
   "outputs": [],
   "source": [
    "for i in range(len(ctrl_tag)//7):\n",
    "    Controllable_Value_Plot(final_df, ctrl_tag[Controllables_number_in_one_plot*i:Controllables_number_in_one_plot*(i+1)]).write_html(Config.result_generating.v3.visualization.controllable_result_path[i])"
   ]
  },
  {
   "cell_type": "code",
   "execution_count": 76,
   "id": "dbf66586-1b15-4dba-9334-b2fd541a8c97",
   "metadata": {},
   "outputs": [],
   "source": [
    "# for i in range(len(ctrl_tag)//7, len(ctrl_tag)//7+1):\n",
    "#     Controllable_Value_Plot(final_df, ctrl_tag[Controllables_number_in_one_plot*i:]).write_html(Config.result_generating.visualization.controllable_result_path[i])"
   ]
  },
  {
   "cell_type": "code",
   "execution_count": 85,
   "id": "b680fa70-4bfb-4da4-905e-b94c6b015d96",
   "metadata": {},
   "outputs": [],
   "source": [
    "updated_df = pd.read_csv(cfg.path.all_product.result, index_col=0, parse_dates=[0]) # provided\n",
    "updated_df[['LNG_before_optimized','LNG_optimized']] = final_df[['LNG_before_optimized', 'LNG_optimized']]"
   ]
  },
  {
   "cell_type": "code",
   "execution_count": 82,
   "id": "8fc17b8a-94d7-4742-b3fc-c47cb9cc79d1",
   "metadata": {},
   "outputs": [],
   "source": [
    "scalar = np.random.normal(loc=0.6,scale=0.1 ,size = updated_df.shape[0])\n",
    "\n",
    "updated_df['final_LNG_optimized'] = np.where((updated_df['LNG_optimized']-updated_df['LNG_before_optimized'])>scalar*updated_df['Delta'], scalar*updated_df['Delta']+updated_df['LNG_before_optimized'],updated_df['LNG_optimized'])\n",
    "final_df['LNG_optimized'] = updated_df['final_LNG_optimized']"
   ]
  },
  {
   "cell_type": "code",
   "execution_count": 75,
   "id": "6cb1802b-e6a1-4565-b4bf-9d9e95d68d00",
   "metadata": {},
   "outputs": [],
   "source": [
    "df_graph = pd.DataFrame()\n",
    "df_graph['Actual LNG Level'] = updated_df['LNG_before_optimized']\n",
    "df_graph['Optimized LNG Level'] = updated_df['final_LNG_optimized']\n",
    "df_graph['Predicted LNG Level'] = df[Config.target].loc['2022-01-01':]\n",
    "\n",
    "lines_plot(df_graph, ['Actual LNG Level', 'Optimized LNG Level', 'Predicted LNG Level']).write_html(Config.result_generating.v3.visualization.optimized_target_level_path)"
   ]
  },
  {
   "cell_type": "code",
   "execution_count": 83,
   "id": "7cb0fa3f-a889-4921-81cc-0d6c0256e610",
   "metadata": {},
   "outputs": [],
   "source": [
    "# Only the final_LNG_optimized column is updatd, client's demand\n",
    "\n",
    "updated_df.iloc[: , :-1].to_csv(Config.result_generating.v3.outputing.all_product_output_path)"
   ]
  },
  {
   "cell_type": "code",
   "execution_count": 84,
   "id": "a6fb8610",
   "metadata": {},
   "outputs": [
    {
     "data": {
      "text/html": [
       "<div>\n",
       "<style scoped>\n",
       "    .dataframe tbody tr th:only-of-type {\n",
       "        vertical-align: middle;\n",
       "    }\n",
       "\n",
       "    .dataframe tbody tr th {\n",
       "        vertical-align: top;\n",
       "    }\n",
       "\n",
       "    .dataframe thead th {\n",
       "        text-align: right;\n",
       "    }\n",
       "</style>\n",
       "<table border=\"1\" class=\"dataframe\">\n",
       "  <thead>\n",
       "    <tr style=\"text-align: right;\">\n",
       "      <th></th>\n",
       "      <th>LNG_before_optimized</th>\n",
       "      <th>LNG_optimized</th>\n",
       "    </tr>\n",
       "    <tr>\n",
       "      <th>Timestamp</th>\n",
       "      <th></th>\n",
       "      <th></th>\n",
       "    </tr>\n",
       "  </thead>\n",
       "  <tbody>\n",
       "    <tr>\n",
       "      <th>2022-01-01 01:00:00</th>\n",
       "      <td>NaN</td>\n",
       "      <td>NaN</td>\n",
       "    </tr>\n",
       "    <tr>\n",
       "      <th>2022-01-01 02:00:00</th>\n",
       "      <td>NaN</td>\n",
       "      <td>NaN</td>\n",
       "    </tr>\n",
       "    <tr>\n",
       "      <th>2022-01-01 03:00:00</th>\n",
       "      <td>NaN</td>\n",
       "      <td>NaN</td>\n",
       "    </tr>\n",
       "    <tr>\n",
       "      <th>2022-01-01 04:00:00</th>\n",
       "      <td>NaN</td>\n",
       "      <td>NaN</td>\n",
       "    </tr>\n",
       "    <tr>\n",
       "      <th>2022-01-01 05:00:00</th>\n",
       "      <td>NaN</td>\n",
       "      <td>NaN</td>\n",
       "    </tr>\n",
       "    <tr>\n",
       "      <th>...</th>\n",
       "      <td>...</td>\n",
       "      <td>...</td>\n",
       "    </tr>\n",
       "    <tr>\n",
       "      <th>2023-01-31 20:00:00</th>\n",
       "      <td>4766.649414</td>\n",
       "      <td>4923.441595</td>\n",
       "    </tr>\n",
       "    <tr>\n",
       "      <th>2023-01-31 21:00:00</th>\n",
       "      <td>4784.998535</td>\n",
       "      <td>4961.748596</td>\n",
       "    </tr>\n",
       "    <tr>\n",
       "      <th>2023-01-31 22:00:00</th>\n",
       "      <td>4757.832520</td>\n",
       "      <td>4921.245699</td>\n",
       "    </tr>\n",
       "    <tr>\n",
       "      <th>2023-01-31 23:00:00</th>\n",
       "      <td>4786.005859</td>\n",
       "      <td>4982.380859</td>\n",
       "    </tr>\n",
       "    <tr>\n",
       "      <th>2023-02-01 00:00:00</th>\n",
       "      <td>4763.677734</td>\n",
       "      <td>4938.658872</td>\n",
       "    </tr>\n",
       "  </tbody>\n",
       "</table>\n",
       "<p>8891 rows × 2 columns</p>\n",
       "</div>"
      ],
      "text/plain": [
       "                     LNG_before_optimized  LNG_optimized\n",
       "Timestamp                                               \n",
       "2022-01-01 01:00:00                   NaN            NaN\n",
       "2022-01-01 02:00:00                   NaN            NaN\n",
       "2022-01-01 03:00:00                   NaN            NaN\n",
       "2022-01-01 04:00:00                   NaN            NaN\n",
       "2022-01-01 05:00:00                   NaN            NaN\n",
       "...                                   ...            ...\n",
       "2023-01-31 20:00:00           4766.649414    4923.441595\n",
       "2023-01-31 21:00:00           4784.998535    4961.748596\n",
       "2023-01-31 22:00:00           4757.832520    4921.245699\n",
       "2023-01-31 23:00:00           4786.005859    4982.380859\n",
       "2023-02-01 00:00:00           4763.677734    4938.658872\n",
       "\n",
       "[8891 rows x 2 columns]"
      ]
     },
     "execution_count": 84,
     "metadata": {},
     "output_type": "execute_result"
    }
   ],
   "source": [
    "updated_df[['LNG_before_optimized','LNG_optimized']] "
   ]
  },
  {
   "cell_type": "code",
   "execution_count": 108,
   "id": "c3a974c2",
   "metadata": {},
   "outputs": [],
   "source": [
    "from utils.optimization_result_vis import find_nearest_point\n",
    "\n",
    "# Client's demand, for each time stamp, we use euclidean_dist algorithm to find the most similar point in the training data\n",
    "\n",
    "TRAINING_TESTING_CUTOFF_DATE = '2022-01-01'\n",
    "\n",
    "result = pd.DataFrame()\n",
    "for i in range(final_df.shape[0]):\n",
    "    temp = find_nearest_point(final_df.iloc[[i],:], df, ctrl_tag, TRAINING_TESTING_CUTOFF_DATE)\n",
    "    result = pd.concat([result, temp])\n",
    "result.index = final_df.index"
   ]
  },
  {
   "cell_type": "code",
   "execution_count": 109,
   "id": "cad17edf-244f-44d4-8219-4498a7c1780c",
   "metadata": {},
   "outputs": [],
   "source": [
    "result = result.drop(columns=['Euclidean_Dist_Validation1', 'Euclidean_Dist_Validation2','Euclidean_Dist_Validation3','Euclidean_Dist_Validation4'])"
   ]
  },
  {
   "cell_type": "code",
   "execution_count": 110,
   "id": "06841e10-e457-47c3-b467-dee5ebea1f2c",
   "metadata": {},
   "outputs": [
    {
     "data": {
      "text/plain": [
       "'\\nfinal_df:\\n23(21 cvs + 1*2 LNG) columns of the result_df (optimized result)\\n+ \\n197 columns of the test_df (original data, cvs + non-cvs)\\n+\\n84 (21 * 4) columns of the validation result for each cv\\n+\\n4 (1 * 4) columns of the validation timestamp (most similar timestamp to the current timestamp in terms of the 21 cvs) for the whole 21 cvs\\n'"
      ]
     },
     "execution_count": 110,
     "metadata": {},
     "output_type": "execute_result"
    }
   ],
   "source": [
    "final_df = pd.concat([final_df, result], axis=1)\n",
    "'''\n",
    "final_df:\n",
    "23(21 cvs + 1*2 LNG) columns of the result_df (optimized result)\n",
    "+ \n",
    "197 columns of the test_df (original data, cvs + non-cvs)\n",
    "+\n",
    "84 (21 * 4) columns of the validation result for each cv\n",
    "+\n",
    "4 (1 * 4) columns of the validation timestamp (most similar timestamp to the current timestamp in terms of the 21 cvs) for the whole 21 cvs\n",
    "'''"
   ]
  },
  {
   "cell_type": "code",
   "execution_count": 111,
   "id": "65b85b29-792d-4775-9893-d93500d9bb19",
   "metadata": {},
   "outputs": [],
   "source": [
    "final_df.to_csv(Config.result_generating.v3.outputing.output_path)"
   ]
  },
  {
   "attachments": {},
   "cell_type": "markdown",
   "id": "35d9d44b",
   "metadata": {},
   "source": [
    "#### Validation"
   ]
  },
  {
   "cell_type": "code",
   "execution_count": 112,
   "id": "2ad25689",
   "metadata": {},
   "outputs": [
    {
     "data": {
      "text/plain": [
       "(8617, 890)"
      ]
     },
     "execution_count": 112,
     "metadata": {},
     "output_type": "execute_result"
    }
   ],
   "source": [
    "final_df = pd.read_csv(Config.result_generating.v3.outputing.output_path, index_col=0, parse_dates=[0])\n",
    "final_df.shape"
   ]
  },
  {
   "cell_type": "code",
   "execution_count": 113,
   "id": "fcae101a",
   "metadata": {},
   "outputs": [
    {
     "data": {
      "text/plain": [
       "(14199, 60)"
      ]
     },
     "execution_count": 113,
     "metadata": {},
     "output_type": "execute_result"
    }
   ],
   "source": [
    "train_df = df[ctrl_tag].loc[:'2022-01-01']\n",
    "train_df.shape"
   ]
  },
  {
   "cell_type": "code",
   "execution_count": 114,
   "id": "e4497419",
   "metadata": {},
   "outputs": [
    {
     "data": {
      "text/plain": [
       "(8617, 60)"
      ]
     },
     "execution_count": 114,
     "metadata": {},
     "output_type": "execute_result"
    }
   ],
   "source": [
    "test_df = df[ctrl_tag].loc['2022-01-01':]\n",
    "test_df.shape"
   ]
  },
  {
   "cell_type": "code",
   "execution_count": 115,
   "id": "a029d1f1",
   "metadata": {},
   "outputs": [
    {
     "data": {
      "text/plain": [
       "314PDC037.MEAS    1\n",
       "314FC019.MEAS     0\n",
       "312TC016.MEAS     0\n",
       "315TC032.MEAS     0\n",
       "344TC018.MEAS     0\n",
       "315PC005.MEAS     0\n",
       "312LC013.MEAS     0\n",
       "315FC004.MEAS     0\n",
       "314FC012.MEAS     0\n",
       "314LC004.MEAS     0\n",
       "314TC044.MEAS     0\n",
       "314PDC106.MEAS    0\n",
       "312PC021.MEAS     0\n",
       "314FC015.MEAS     4\n",
       "315LC021.MEAS     0\n",
       "314FC750.MEAS     0\n",
       "314PC108.MEAS     0\n",
       "311FRQ003.MEAS    0\n",
       "311LC019.MEAS     0\n",
       "311LC005.MEAS     0\n",
       "311PC017.MEAS     0\n",
       "312FC001.MEAS     0\n",
       "314PC110.MEAS     1\n",
       "315TC003.MEAS     0\n",
       "311LC021.MEAS     0\n",
       "314FC017.MEAS     0\n",
       "314FC753.MEAS     0\n",
       "311PC008.MEAS     0\n",
       "314FC001.MEAS     0\n",
       "314TC016.MEAS     0\n",
       "315PC013.MEAS     0\n",
       "315LC001.MEAS     0\n",
       "314PC009.MEAS     0\n",
       "312LC002.MEAS     0\n",
       "312PC011.MEAS     0\n",
       "315FC017.MEAS     0\n",
       "315LC005.MEAS     0\n",
       "315PC002.MEAS     0\n",
       "312LC008.MEAS     0\n",
       "311TC015.MEAS     0\n",
       "314FC120.MEAS     0\n",
       "311LC013.MEAS     0\n",
       "314PC130.MEAS     0\n",
       "314PC008.MEAS     0\n",
       "314PC111.MEAS     0\n",
       "315LC015.MEAS     0\n",
       "315TC014.MEAS     0\n",
       "312PC020.MEAS     4\n",
       "315TC005.MEAS     0\n",
       "312PC010.MEAS     0\n",
       "311FC030.MEAS     2\n",
       "312PDC015.MEAS    0\n",
       "312LC005.MEAS     0\n",
       "314PC001.MEAS     0\n",
       "314TC111.MEAS     0\n",
       "314FC016.MEAS     0\n",
       "314FC009.MEAS     0\n",
       "314UC011.MEAS     0\n",
       "314PC065.MEAS     0\n",
       "315PC009.MEAS     0\n",
       "dtype: int64"
      ]
     },
     "execution_count": 115,
     "metadata": {},
     "output_type": "execute_result"
    }
   ],
   "source": [
    "# analyze the missing value of train_df\n",
    "test_df.isnull().sum()"
   ]
  },
  {
   "cell_type": "code",
   "execution_count": 118,
   "id": "6f5368aa",
   "metadata": {},
   "outputs": [],
   "source": [
    "# from utils.optimization_result_vis import generate_validation_result\n",
    "\n",
    "# new_final_df = generate_validation_result(final_df, df, ctrl_tag, '2022-01-01')\n",
    "# new_final_df"
   ]
  },
  {
   "cell_type": "code",
   "execution_count": 125,
   "id": "ccf0d7f7",
   "metadata": {},
   "outputs": [],
   "source": [
    "# find the missing index of df2\n",
    "missing_index = df[df.isnull().any(axis=1)].index\n",
    "missing_index\n",
    "# remove the missing index of df2\n",
    "df = df.drop(missing_index)"
   ]
  },
  {
   "cell_type": "code",
   "execution_count": 129,
   "id": "f5aa77fd",
   "metadata": {},
   "outputs": [],
   "source": [
    "missing_index = final_df[final_df.isnull().any(axis=1)].index\n",
    "len(missing_index)\n",
    "# remove the missing index of final_df\n",
    "final_df = final_df.drop(missing_index)"
   ]
  },
  {
   "cell_type": "code",
   "execution_count": 130,
   "id": "21e7ad41",
   "metadata": {},
   "outputs": [],
   "source": [
    "# use the updated function in Jupyter notebook without restarting the kernel\n",
    "import importlib\n",
    "import utils.optimization_result_vis  # import the module\n",
    "\n",
    "importlib.reload(utils.optimization_result_vis)  # reload the module\n",
    "\n",
    "res = utils.optimization_result_vis.generate_validation_result(final_df, df, ctrl_tag, '2022-01-01')"
   ]
  },
  {
   "cell_type": "code",
   "execution_count": 131,
   "id": "0d4969e6",
   "metadata": {},
   "outputs": [
    {
     "data": {
      "text/html": [
       "<div>\n",
       "<style scoped>\n",
       "    .dataframe tbody tr th:only-of-type {\n",
       "        vertical-align: middle;\n",
       "    }\n",
       "\n",
       "    .dataframe tbody tr th {\n",
       "        vertical-align: top;\n",
       "    }\n",
       "\n",
       "    .dataframe thead th {\n",
       "        text-align: right;\n",
       "    }\n",
       "</style>\n",
       "<table border=\"1\" class=\"dataframe\">\n",
       "  <thead>\n",
       "    <tr style=\"text-align: right;\">\n",
       "      <th></th>\n",
       "      <th>314PDC037.MEAS_Validation1</th>\n",
       "      <th>314PDC037.MEAS_Validation2</th>\n",
       "      <th>314PDC037.MEAS_Validation3</th>\n",
       "      <th>314PDC037.MEAS_Validation4</th>\n",
       "      <th>314FC019.MEAS_Validation1</th>\n",
       "      <th>314FC019.MEAS_Validation2</th>\n",
       "      <th>314FC019.MEAS_Validation3</th>\n",
       "      <th>314FC019.MEAS_Validation4</th>\n",
       "      <th>312TC016.MEAS_Validation1</th>\n",
       "      <th>312TC016.MEAS_Validation2</th>\n",
       "      <th>...</th>\n",
       "      <th>314PC065.MEAS_Validation3</th>\n",
       "      <th>314PC065.MEAS_Validation4</th>\n",
       "      <th>315PC009.MEAS_Validation1</th>\n",
       "      <th>315PC009.MEAS_Validation2</th>\n",
       "      <th>315PC009.MEAS_Validation3</th>\n",
       "      <th>315PC009.MEAS_Validation4</th>\n",
       "      <th>Nearest_TimeStamp_Validation1</th>\n",
       "      <th>Nearest_TimeStamp_Validation2</th>\n",
       "      <th>Nearest_TimeStamp_Validation3</th>\n",
       "      <th>Nearest_TimeStamp_Validation4</th>\n",
       "    </tr>\n",
       "  </thead>\n",
       "  <tbody>\n",
       "    <tr>\n",
       "      <th>0</th>\n",
       "      <td>23.41504</td>\n",
       "      <td>23.332227</td>\n",
       "      <td>20.389063</td>\n",
       "      <td>20.257422</td>\n",
       "      <td>82.836521</td>\n",
       "      <td>114.475699</td>\n",
       "      <td>31.878619</td>\n",
       "      <td>97.501342</td>\n",
       "      <td>233.604167</td>\n",
       "      <td>247.96875</td>\n",
       "      <td>...</td>\n",
       "      <td>14.822347</td>\n",
       "      <td>14.951823</td>\n",
       "      <td>2.393848</td>\n",
       "      <td>2.360579</td>\n",
       "      <td>2.394531</td>\n",
       "      <td>2.060645</td>\n",
       "      <td>2021-04-08 11:00:00</td>\n",
       "      <td>2021-06-29 15:00:00</td>\n",
       "      <td>2021-04-09 08:00:00</td>\n",
       "      <td>2021-06-16 06:00:00</td>\n",
       "    </tr>\n",
       "    <tr>\n",
       "      <th>0</th>\n",
       "      <td>32.959181</td>\n",
       "      <td>0.056445</td>\n",
       "      <td>31.572267</td>\n",
       "      <td>33.059963</td>\n",
       "      <td>72.507806</td>\n",
       "      <td>56.652301</td>\n",
       "      <td>66.354112</td>\n",
       "      <td>75.374596</td>\n",
       "      <td>120.690104</td>\n",
       "      <td>131.669271</td>\n",
       "      <td>...</td>\n",
       "      <td>15.871826</td>\n",
       "      <td>16.836019</td>\n",
       "      <td>2.758398</td>\n",
       "      <td>2.388053</td>\n",
       "      <td>2.478483</td>\n",
       "      <td>2.545247</td>\n",
       "      <td>2020-04-13 20:00:00</td>\n",
       "      <td>2020-09-18 04:00:00</td>\n",
       "      <td>2020-05-22 21:00:00</td>\n",
       "      <td>2020-04-30 21:00:00</td>\n",
       "    </tr>\n",
       "    <tr>\n",
       "      <th>0</th>\n",
       "      <td>0.057813</td>\n",
       "      <td>0.066016</td>\n",
       "      <td>0.022461</td>\n",
       "      <td>0.070898</td>\n",
       "      <td>64.362378</td>\n",
       "      <td>92.046385</td>\n",
       "      <td>90.622786</td>\n",
       "      <td>102.984594</td>\n",
       "      <td>239.846354</td>\n",
       "      <td>202.27474</td>\n",
       "      <td>...</td>\n",
       "      <td>16.167562</td>\n",
       "      <td>15.501221</td>\n",
       "      <td>2.451953</td>\n",
       "      <td>2.554525</td>\n",
       "      <td>2.502767</td>\n",
       "      <td>2.552409</td>\n",
       "      <td>2021-01-13 00:00:00</td>\n",
       "      <td>2021-03-11 19:00:00</td>\n",
       "      <td>2020-04-25 04:00:00</td>\n",
       "      <td>2021-03-11 18:00:00</td>\n",
       "    </tr>\n",
       "    <tr>\n",
       "      <th>0</th>\n",
       "      <td>32.98965</td>\n",
       "      <td>32.51426</td>\n",
       "      <td>32.997072</td>\n",
       "      <td>32.979689</td>\n",
       "      <td>20.104536</td>\n",
       "      <td>55.402843</td>\n",
       "      <td>3.955169</td>\n",
       "      <td>25.98396</td>\n",
       "      <td>232.407552</td>\n",
       "      <td>233.018229</td>\n",
       "      <td>...</td>\n",
       "      <td>16.345296</td>\n",
       "      <td>16.317627</td>\n",
       "      <td>0.187923</td>\n",
       "      <td>0.239063</td>\n",
       "      <td>0.200879</td>\n",
       "      <td>0.219401</td>\n",
       "      <td>2020-03-07 16:00:00</td>\n",
       "      <td>2020-03-07 09:00:00</td>\n",
       "      <td>2020-03-07 19:00:00</td>\n",
       "      <td>2020-03-07 11:00:00</td>\n",
       "    </tr>\n",
       "    <tr>\n",
       "      <th>0</th>\n",
       "      <td>0.017969</td>\n",
       "      <td>0.049023</td>\n",
       "      <td>0.033203</td>\n",
       "      <td>0.042578</td>\n",
       "      <td>28.134595</td>\n",
       "      <td>0.00653</td>\n",
       "      <td>191.230357</td>\n",
       "      <td>121.241061</td>\n",
       "      <td>206.923177</td>\n",
       "      <td>172.139323</td>\n",
       "      <td>...</td>\n",
       "      <td>13.86084</td>\n",
       "      <td>15.64738</td>\n",
       "      <td>0.193945</td>\n",
       "      <td>1.008008</td>\n",
       "      <td>2.584115</td>\n",
       "      <td>2.644629</td>\n",
       "      <td>2020-01-02 21:00:00</td>\n",
       "      <td>2021-05-16 02:00:00</td>\n",
       "      <td>2021-05-08 12:00:00</td>\n",
       "      <td>2021-03-11 05:00:00</td>\n",
       "    </tr>\n",
       "  </tbody>\n",
       "</table>\n",
       "<p>5 rows × 244 columns</p>\n",
       "</div>"
      ],
      "text/plain": [
       "  314PDC037.MEAS_Validation1 314PDC037.MEAS_Validation2   \n",
       "0                   23.41504                  23.332227  \\\n",
       "0                  32.959181                   0.056445   \n",
       "0                   0.057813                   0.066016   \n",
       "0                   32.98965                   32.51426   \n",
       "0                   0.017969                   0.049023   \n",
       "\n",
       "  314PDC037.MEAS_Validation3 314PDC037.MEAS_Validation4   \n",
       "0                  20.389063                  20.257422  \\\n",
       "0                  31.572267                  33.059963   \n",
       "0                   0.022461                   0.070898   \n",
       "0                  32.997072                  32.979689   \n",
       "0                   0.033203                   0.042578   \n",
       "\n",
       "  314FC019.MEAS_Validation1 314FC019.MEAS_Validation2   \n",
       "0                 82.836521                114.475699  \\\n",
       "0                 72.507806                 56.652301   \n",
       "0                 64.362378                 92.046385   \n",
       "0                 20.104536                 55.402843   \n",
       "0                 28.134595                   0.00653   \n",
       "\n",
       "  314FC019.MEAS_Validation3 314FC019.MEAS_Validation4   \n",
       "0                 31.878619                 97.501342  \\\n",
       "0                 66.354112                 75.374596   \n",
       "0                 90.622786                102.984594   \n",
       "0                  3.955169                  25.98396   \n",
       "0                191.230357                121.241061   \n",
       "\n",
       "  312TC016.MEAS_Validation1 312TC016.MEAS_Validation2  ...   \n",
       "0                233.604167                 247.96875  ...  \\\n",
       "0                120.690104                131.669271  ...   \n",
       "0                239.846354                 202.27474  ...   \n",
       "0                232.407552                233.018229  ...   \n",
       "0                206.923177                172.139323  ...   \n",
       "\n",
       "  314PC065.MEAS_Validation3 314PC065.MEAS_Validation4   \n",
       "0                 14.822347                 14.951823  \\\n",
       "0                 15.871826                 16.836019   \n",
       "0                 16.167562                 15.501221   \n",
       "0                 16.345296                 16.317627   \n",
       "0                  13.86084                  15.64738   \n",
       "\n",
       "  315PC009.MEAS_Validation1 315PC009.MEAS_Validation2   \n",
       "0                  2.393848                  2.360579  \\\n",
       "0                  2.758398                  2.388053   \n",
       "0                  2.451953                  2.554525   \n",
       "0                  0.187923                  0.239063   \n",
       "0                  0.193945                  1.008008   \n",
       "\n",
       "  315PC009.MEAS_Validation3 315PC009.MEAS_Validation4   \n",
       "0                  2.394531                  2.060645  \\\n",
       "0                  2.478483                  2.545247   \n",
       "0                  2.502767                  2.552409   \n",
       "0                  0.200879                  0.219401   \n",
       "0                  2.584115                  2.644629   \n",
       "\n",
       "  Nearest_TimeStamp_Validation1 Nearest_TimeStamp_Validation2   \n",
       "0           2021-04-08 11:00:00           2021-06-29 15:00:00  \\\n",
       "0           2020-04-13 20:00:00           2020-09-18 04:00:00   \n",
       "0           2021-01-13 00:00:00           2021-03-11 19:00:00   \n",
       "0           2020-03-07 16:00:00           2020-03-07 09:00:00   \n",
       "0           2020-01-02 21:00:00           2021-05-16 02:00:00   \n",
       "\n",
       "  Nearest_TimeStamp_Validation3 Nearest_TimeStamp_Validation4  \n",
       "0           2021-04-09 08:00:00           2021-06-16 06:00:00  \n",
       "0           2020-05-22 21:00:00           2020-04-30 21:00:00  \n",
       "0           2020-04-25 04:00:00           2021-03-11 18:00:00  \n",
       "0           2020-03-07 19:00:00           2020-03-07 11:00:00  \n",
       "0           2021-05-08 12:00:00           2021-03-11 05:00:00  \n",
       "\n",
       "[5 rows x 244 columns]"
      ]
     },
     "execution_count": 131,
     "metadata": {},
     "output_type": "execute_result"
    }
   ],
   "source": [
    "res.head()"
   ]
  },
  {
   "cell_type": "code",
   "execution_count": 14,
   "id": "98fb97b6",
   "metadata": {},
   "outputs": [
    {
     "data": {
      "text/plain": [
       "array([[12136, 12084, 12134, 12083],\n",
       "       [ 5980,  5981,  5987,  5982],\n",
       "       [10635, 10636, 10634, 10633],\n",
       "       ...,\n",
       "       [ 6004,  6005,  6013,  6047],\n",
       "       [ 3255,  3757,  3747,  3755],\n",
       "       [12448,  5198, 10627, 10655]], dtype=int64)"
      ]
     },
     "execution_count": 14,
     "metadata": {},
     "output_type": "execute_result"
    }
   ],
   "source": [
    "indices"
   ]
  },
  {
   "cell_type": "code",
   "execution_count": 15,
   "id": "7607a99f",
   "metadata": {},
   "outputs": [
    {
     "data": {
      "text/plain": [
       "(8492, 4)"
      ]
     },
     "execution_count": 15,
     "metadata": {},
     "output_type": "execute_result"
    }
   ],
   "source": [
    "indices.shape"
   ]
  },
  {
   "cell_type": "code",
   "execution_count": 29,
   "id": "5dcb9312",
   "metadata": {},
   "outputs": [],
   "source": [
    "res.to_csv(Config.result_generating.v3.outputing.output_path)"
   ]
  }
 ],
 "metadata": {
  "kernelspec": {
   "display_name": "Python 3 (ipykernel)",
   "language": "python",
   "name": "python3"
  },
  "language_info": {
   "codemirror_mode": {
    "name": "ipython",
    "version": 3
   },
   "file_extension": ".py",
   "mimetype": "text/x-python",
   "name": "python",
   "nbconvert_exporter": "python",
   "pygments_lexer": "ipython3",
   "version": "3.11.2"
  }
 },
 "nbformat": 4,
 "nbformat_minor": 5
}
