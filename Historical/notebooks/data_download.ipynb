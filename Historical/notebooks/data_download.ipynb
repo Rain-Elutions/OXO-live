{
 "cells": [
  {
   "cell_type": "code",
   "execution_count": 1,
   "metadata": {},
   "outputs": [],
   "source": [
    "import SQLTool\n",
    "import pandas as pd\n",
    "import plotly.express as px\n",
    "import plotly.graph_objects as go\n",
    "from box import Box\n",
    "from utils.util import read_yaml"
   ]
  },
  {
   "cell_type": "code",
   "execution_count": 2,
   "metadata": {},
   "outputs": [],
   "source": [
    "cfg = Box(read_yaml('../src/conf/config.yaml'))"
   ]
  },
  {
   "cell_type": "code",
   "execution_count": null,
   "metadata": {},
   "outputs": [],
   "source": [
    "short_name_list = ['FI696', 'FIC612A', 'FIC612B', 'FIC600', 'FIC601', \n",
    "'TIC603',\n",
    "'TIC605',\n",
    "'TIC605B',\n",
    "'TIC606',\n",
    "'TIC609',\n",
    "'TIC601',\n",
    "'RIC606_Y',\n",
    "'FIC608A',\n",
    "'FIC608B']"
   ]
  },
  {
   "cell_type": "code",
   "execution_count": 4,
   "metadata": {},
   "outputs": [],
   "source": [
    "tag_list = ['T2.OXO.5FI696 Augusta', \n",
    "                  'T2.OXO.5FIC612A Augusta', 'T2.OXO.5FIC612B Augusta', 'T2.OXO.5FIC600 Augusta', 'T2.OXO.5FIC601 Augusta',\n",
    "                  'T2.OXO.5TIC603 Augusta',\n",
    "                #   'T2.OXO.5TIC605 Augusta', \n",
    "                  'T2.OXO.5TIC605B Augusta',\n",
    "                  'T2.OXO.5TIC606 Augusta', 'T2.OXO.5TIC609 Augusta',\n",
    "                  'T2.OXO.5TIC601 Augusta', 'T2.OXO.5RIC606_Y Augusta',\n",
    "                  # 'T2.OXO.5FIC608A Augusta',\n",
    "                  'T2.OXO.5FIC608B Augusta'\n",
    "                  ]"
   ]
  },
  {
   "cell_type": "code",
   "execution_count": 1,
   "metadata": {},
   "outputs": [],
   "source": [
    "# tag_df = pd.read_excel(cfg.path.tags_info)\n",
    "# tag_list = tag_df['Tag'].tolist()\n",
    "# tag_list"
   ]
  },
  {
   "cell_type": "code",
   "execution_count": 5,
   "metadata": {},
   "outputs": [
    {
     "name": "stderr",
     "output_type": "stream",
     "text": [
      "  0%|          | 0/14 [00:00<?, ?it/s]"
     ]
    },
    {
     "name": "stderr",
     "output_type": "stream",
     "text": [
      "Skipping Tag: T2.OXO.5TIC605 Augusta due to bad query\n",
      "BadQueryError: No result found for this query --- Tag: T2.OXO.5TIC605 Augusta, Client: Sasol_, Server: SPCPROSQL007\n",
      "100%|██████████| 14/14 [01:24<00:00,  6.01s/it]\n"
     ]
    },
    {
     "data": {
      "text/html": [
       "<div>\n",
       "<style scoped>\n",
       "    .dataframe tbody tr th:only-of-type {\n",
       "        vertical-align: middle;\n",
       "    }\n",
       "\n",
       "    .dataframe tbody tr th {\n",
       "        vertical-align: top;\n",
       "    }\n",
       "\n",
       "    .dataframe thead th {\n",
       "        text-align: right;\n",
       "    }\n",
       "</style>\n",
       "<table border=\"1\" class=\"dataframe\">\n",
       "  <thead>\n",
       "    <tr style=\"text-align: right;\">\n",
       "      <th>Name</th>\n",
       "      <th>T2.OXO.5FI696 Augusta</th>\n",
       "      <th>T2.OXO.5FIC600 Augusta</th>\n",
       "      <th>T2.OXO.5FIC601 Augusta</th>\n",
       "      <th>T2.OXO.5FIC608A Augusta</th>\n",
       "      <th>T2.OXO.5FIC608B Augusta</th>\n",
       "      <th>T2.OXO.5FIC612A Augusta</th>\n",
       "      <th>T2.OXO.5FIC612B Augusta</th>\n",
       "      <th>T2.OXO.5RIC606_Y Augusta</th>\n",
       "      <th>T2.OXO.5TIC601 Augusta</th>\n",
       "      <th>T2.OXO.5TIC603 Augusta</th>\n",
       "      <th>T2.OXO.5TIC605B Augusta</th>\n",
       "      <th>T2.OXO.5TIC606 Augusta</th>\n",
       "      <th>T2.OXO.5TIC609 Augusta</th>\n",
       "    </tr>\n",
       "    <tr>\n",
       "      <th>Date</th>\n",
       "      <th></th>\n",
       "      <th></th>\n",
       "      <th></th>\n",
       "      <th></th>\n",
       "      <th></th>\n",
       "      <th></th>\n",
       "      <th></th>\n",
       "      <th></th>\n",
       "      <th></th>\n",
       "      <th></th>\n",
       "      <th></th>\n",
       "      <th></th>\n",
       "      <th></th>\n",
       "    </tr>\n",
       "  </thead>\n",
       "  <tbody>\n",
       "    <tr>\n",
       "      <th>2022-07-07 12:00:00</th>\n",
       "      <td>NaN</td>\n",
       "      <td>18.099779</td>\n",
       "      <td>NaN</td>\n",
       "      <td>NaN</td>\n",
       "      <td>NaN</td>\n",
       "      <td>NaN</td>\n",
       "      <td>NaN</td>\n",
       "      <td>NaN</td>\n",
       "      <td>NaN</td>\n",
       "      <td>NaN</td>\n",
       "      <td>NaN</td>\n",
       "      <td>NaN</td>\n",
       "      <td>NaN</td>\n",
       "    </tr>\n",
       "    <tr>\n",
       "      <th>2022-07-07 13:00:00</th>\n",
       "      <td>NaN</td>\n",
       "      <td>18.102222</td>\n",
       "      <td>NaN</td>\n",
       "      <td>NaN</td>\n",
       "      <td>NaN</td>\n",
       "      <td>NaN</td>\n",
       "      <td>NaN</td>\n",
       "      <td>NaN</td>\n",
       "      <td>NaN</td>\n",
       "      <td>NaN</td>\n",
       "      <td>NaN</td>\n",
       "      <td>NaN</td>\n",
       "      <td>NaN</td>\n",
       "    </tr>\n",
       "    <tr>\n",
       "      <th>2022-07-07 15:00:00</th>\n",
       "      <td>0.808354</td>\n",
       "      <td>18.164176</td>\n",
       "      <td>NaN</td>\n",
       "      <td>0.000000</td>\n",
       "      <td>17.064672</td>\n",
       "      <td>NaN</td>\n",
       "      <td>0.000000</td>\n",
       "      <td>0.000000</td>\n",
       "      <td>15.237808</td>\n",
       "      <td>25.000000</td>\n",
       "      <td>25.000000</td>\n",
       "      <td>25.000000</td>\n",
       "      <td>NaN</td>\n",
       "    </tr>\n",
       "    <tr>\n",
       "      <th>2022-07-12 14:00:00</th>\n",
       "      <td>9732.920898</td>\n",
       "      <td>1969.954468</td>\n",
       "      <td>NaN</td>\n",
       "      <td>473.170868</td>\n",
       "      <td>24.567026</td>\n",
       "      <td>NaN</td>\n",
       "      <td>9.301239</td>\n",
       "      <td>211.847763</td>\n",
       "      <td>149.885101</td>\n",
       "      <td>131.856262</td>\n",
       "      <td>132.899979</td>\n",
       "      <td>133.078506</td>\n",
       "      <td>NaN</td>\n",
       "    </tr>\n",
       "    <tr>\n",
       "      <th>2022-07-12 15:00:00</th>\n",
       "      <td>9793.585449</td>\n",
       "      <td>2186.951233</td>\n",
       "      <td>NaN</td>\n",
       "      <td>563.453438</td>\n",
       "      <td>27.211921</td>\n",
       "      <td>NaN</td>\n",
       "      <td>9.298848</td>\n",
       "      <td>212.140929</td>\n",
       "      <td>150.012039</td>\n",
       "      <td>132.175243</td>\n",
       "      <td>133.049438</td>\n",
       "      <td>133.022430</td>\n",
       "      <td>NaN</td>\n",
       "    </tr>\n",
       "  </tbody>\n",
       "</table>\n",
       "</div>"
      ],
      "text/plain": [
       "Name                 T2.OXO.5FI696 Augusta  T2.OXO.5FIC600 Augusta   \n",
       "Date                                                                 \n",
       "2022-07-07 12:00:00                    NaN               18.099779  \\\n",
       "2022-07-07 13:00:00                    NaN               18.102222   \n",
       "2022-07-07 15:00:00               0.808354               18.164176   \n",
       "2022-07-12 14:00:00            9732.920898             1969.954468   \n",
       "2022-07-12 15:00:00            9793.585449             2186.951233   \n",
       "\n",
       "Name                 T2.OXO.5FIC601 Augusta  T2.OXO.5FIC608A Augusta   \n",
       "Date                                                                   \n",
       "2022-07-07 12:00:00                     NaN                      NaN  \\\n",
       "2022-07-07 13:00:00                     NaN                      NaN   \n",
       "2022-07-07 15:00:00                     NaN                 0.000000   \n",
       "2022-07-12 14:00:00                     NaN               473.170868   \n",
       "2022-07-12 15:00:00                     NaN               563.453438   \n",
       "\n",
       "Name                 T2.OXO.5FIC608B Augusta  T2.OXO.5FIC612A Augusta   \n",
       "Date                                                                    \n",
       "2022-07-07 12:00:00                      NaN                      NaN  \\\n",
       "2022-07-07 13:00:00                      NaN                      NaN   \n",
       "2022-07-07 15:00:00                17.064672                      NaN   \n",
       "2022-07-12 14:00:00                24.567026                      NaN   \n",
       "2022-07-12 15:00:00                27.211921                      NaN   \n",
       "\n",
       "Name                 T2.OXO.5FIC612B Augusta  T2.OXO.5RIC606_Y Augusta   \n",
       "Date                                                                     \n",
       "2022-07-07 12:00:00                      NaN                       NaN  \\\n",
       "2022-07-07 13:00:00                      NaN                       NaN   \n",
       "2022-07-07 15:00:00                 0.000000                  0.000000   \n",
       "2022-07-12 14:00:00                 9.301239                211.847763   \n",
       "2022-07-12 15:00:00                 9.298848                212.140929   \n",
       "\n",
       "Name                 T2.OXO.5TIC601 Augusta  T2.OXO.5TIC603 Augusta   \n",
       "Date                                                                  \n",
       "2022-07-07 12:00:00                     NaN                     NaN  \\\n",
       "2022-07-07 13:00:00                     NaN                     NaN   \n",
       "2022-07-07 15:00:00               15.237808               25.000000   \n",
       "2022-07-12 14:00:00              149.885101              131.856262   \n",
       "2022-07-12 15:00:00              150.012039              132.175243   \n",
       "\n",
       "Name                 T2.OXO.5TIC605B Augusta  T2.OXO.5TIC606 Augusta   \n",
       "Date                                                                   \n",
       "2022-07-07 12:00:00                      NaN                     NaN  \\\n",
       "2022-07-07 13:00:00                      NaN                     NaN   \n",
       "2022-07-07 15:00:00                25.000000               25.000000   \n",
       "2022-07-12 14:00:00               132.899979              133.078506   \n",
       "2022-07-12 15:00:00               133.049438              133.022430   \n",
       "\n",
       "Name                 T2.OXO.5TIC609 Augusta  \n",
       "Date                                         \n",
       "2022-07-07 12:00:00                     NaN  \n",
       "2022-07-07 13:00:00                     NaN  \n",
       "2022-07-07 15:00:00                     NaN  \n",
       "2022-07-12 14:00:00                     NaN  \n",
       "2022-07-12 15:00:00                     NaN  "
      ]
     },
     "execution_count": 5,
     "metadata": {},
     "output_type": "execute_result"
    }
   ],
   "source": [
    "# tags are imported in the form of a list\n",
    "example_tags = tag_list\n",
    "# example_tags = cvs + non_cvs + ['V406-TOTALI N-OLEFINE Augusta', 'T8.PACOL2.6FI-474 Augusta'] # concentration, flow\n",
    "# exampe_tags = pd.read_csv('tags_for_Rain.csv', header=None).values.tolist()\n",
    "\n",
    "\n",
    "# client name\n",
    "example_client = \"Sasol_\"\n",
    "\n",
    "# server name\n",
    "#example_server, _, _, _ = SQLTool.get_server_info(\"Sasol_\")\n",
    "example_server = \"SPCPROSQL007\"\n",
    "\n",
    "# property ID\n",
    "example_property_value = -6\n",
    "\n",
    "# start and end date\n",
    "# example_start =  \"2020-01-01\"\n",
    "example_start =  \"2022-01-01\"\n",
    "# example_end = \"2022-06-01\"\n",
    "example_end = \"2023-09-22\"\n",
    "\n",
    "\n",
    "# resampling rate\n",
    "example_rate = 60\n",
    "\n",
    "# units \n",
    "example_unit = \"minutes\"\n",
    "\n",
    "example_df, missing_tags = SQLTool.download_and_format(\n",
    "    example_tags,\n",
    "    example_client,\n",
    "    example_server,\n",
    "    example_property_value, \n",
    "    start_date =  example_start,\n",
    "    end_date =  example_end,\n",
    "    rate = example_rate,\n",
    "    unit = example_unit)\n",
    "\n",
    "example_df.head()"
   ]
  },
  {
   "cell_type": "code",
   "execution_count": 6,
   "metadata": {},
   "outputs": [],
   "source": [
    "example_df.to_csv('../data/updated_tags/new_data.csv')"
   ]
  },
  {
   "cell_type": "code",
   "execution_count": 37,
   "metadata": {},
   "outputs": [
    {
     "data": {
      "text/html": [
       "<div>\n",
       "<style scoped>\n",
       "    .dataframe tbody tr th:only-of-type {\n",
       "        vertical-align: middle;\n",
       "    }\n",
       "\n",
       "    .dataframe tbody tr th {\n",
       "        vertical-align: top;\n",
       "    }\n",
       "\n",
       "    .dataframe thead th {\n",
       "        text-align: right;\n",
       "    }\n",
       "</style>\n",
       "<table border=\"1\" class=\"dataframe\">\n",
       "  <thead>\n",
       "    <tr style=\"text-align: right;\">\n",
       "      <th></th>\n",
       "      <th>T8.PACOL2.6AIC-401A Augusta</th>\n",
       "      <th>T8.PACOL2.6FI-401_B Augusta</th>\n",
       "      <th>T8.PACOL2.6FI-407 Augusta</th>\n",
       "      <th>T8.PACOL2.6FI-446 Augusta</th>\n",
       "      <th>T8.PACOL2.6FI-474 Augusta</th>\n",
       "      <th>T8.PACOL2.6FI-475 Augusta</th>\n",
       "      <th>T8.PACOL2.6FI-476 Augusta</th>\n",
       "      <th>T8.PACOL2.6FI-491 Augusta</th>\n",
       "      <th>T8.PACOL2.6FIC-120_52 Augusta</th>\n",
       "      <th>T8.PACOL2.6FIC-1402 Augusta</th>\n",
       "      <th>...</th>\n",
       "      <th>T8.PACOL2.6TI-400_14 Augusta</th>\n",
       "      <th>T8.PACOL2.6TI-400_6 Augusta</th>\n",
       "      <th>T8.PACOL2.6TI-400_72 Augusta</th>\n",
       "      <th>T8.PACOL2.6TI-400_74 Augusta</th>\n",
       "      <th>T8.PACOL2.6TI-400_75 Augusta</th>\n",
       "      <th>T8.PACOL2.6TI-473 Augusta</th>\n",
       "      <th>T8.PACOL2.6TI-483 Augusta</th>\n",
       "      <th>T8.PACOL2.6TI-491 Augusta</th>\n",
       "      <th>T8.PACOL2.6TI-492 Augusta</th>\n",
       "      <th>V406-TOTALI N-OLEFINE Augusta</th>\n",
       "    </tr>\n",
       "    <tr>\n",
       "      <th>Date</th>\n",
       "      <th></th>\n",
       "      <th></th>\n",
       "      <th></th>\n",
       "      <th></th>\n",
       "      <th></th>\n",
       "      <th></th>\n",
       "      <th></th>\n",
       "      <th></th>\n",
       "      <th></th>\n",
       "      <th></th>\n",
       "      <th></th>\n",
       "      <th></th>\n",
       "      <th></th>\n",
       "      <th></th>\n",
       "      <th></th>\n",
       "      <th></th>\n",
       "      <th></th>\n",
       "      <th></th>\n",
       "      <th></th>\n",
       "      <th></th>\n",
       "      <th></th>\n",
       "    </tr>\n",
       "  </thead>\n",
       "  <tbody>\n",
       "    <tr>\n",
       "      <th>2022-07-12 14:00:00</th>\n",
       "      <td>2.739422</td>\n",
       "      <td>85632.125000</td>\n",
       "      <td>220.880366</td>\n",
       "      <td>95.187503</td>\n",
       "      <td>90.742218</td>\n",
       "      <td>44.075012</td>\n",
       "      <td>46.286004</td>\n",
       "      <td>0.524952</td>\n",
       "      <td>1541.251790</td>\n",
       "      <td>11.613620</td>\n",
       "      <td>...</td>\n",
       "      <td>250.562645</td>\n",
       "      <td>439.816223</td>\n",
       "      <td>537.321838</td>\n",
       "      <td>565.478882</td>\n",
       "      <td>561.590393</td>\n",
       "      <td>211.265625</td>\n",
       "      <td>158.795952</td>\n",
       "      <td>165.941483</td>\n",
       "      <td>382.745697</td>\n",
       "      <td>NaN</td>\n",
       "    </tr>\n",
       "    <tr>\n",
       "      <th>2022-07-12 15:00:00</th>\n",
       "      <td>2.607891</td>\n",
       "      <td>85454.463281</td>\n",
       "      <td>213.071790</td>\n",
       "      <td>94.743753</td>\n",
       "      <td>90.920882</td>\n",
       "      <td>43.954382</td>\n",
       "      <td>45.732431</td>\n",
       "      <td>0.523591</td>\n",
       "      <td>1539.987704</td>\n",
       "      <td>11.568958</td>\n",
       "      <td>...</td>\n",
       "      <td>250.546570</td>\n",
       "      <td>439.901649</td>\n",
       "      <td>538.375510</td>\n",
       "      <td>565.317477</td>\n",
       "      <td>561.082325</td>\n",
       "      <td>215.290179</td>\n",
       "      <td>157.467780</td>\n",
       "      <td>166.208221</td>\n",
       "      <td>382.798215</td>\n",
       "      <td>NaN</td>\n",
       "    </tr>\n",
       "    <tr>\n",
       "      <th>2022-07-12 16:00:00</th>\n",
       "      <td>2.659282</td>\n",
       "      <td>85484.073568</td>\n",
       "      <td>214.526460</td>\n",
       "      <td>95.290628</td>\n",
       "      <td>90.985808</td>\n",
       "      <td>44.337600</td>\n",
       "      <td>45.424198</td>\n",
       "      <td>0.530554</td>\n",
       "      <td>1534.177673</td>\n",
       "      <td>11.529332</td>\n",
       "      <td>...</td>\n",
       "      <td>250.512634</td>\n",
       "      <td>440.117992</td>\n",
       "      <td>539.478633</td>\n",
       "      <td>566.597905</td>\n",
       "      <td>561.030899</td>\n",
       "      <td>215.316964</td>\n",
       "      <td>157.014258</td>\n",
       "      <td>165.761443</td>\n",
       "      <td>382.868455</td>\n",
       "      <td>NaN</td>\n",
       "    </tr>\n",
       "    <tr>\n",
       "      <th>2022-07-12 17:00:00</th>\n",
       "      <td>2.604060</td>\n",
       "      <td>85336.023438</td>\n",
       "      <td>215.838437</td>\n",
       "      <td>95.006254</td>\n",
       "      <td>91.075963</td>\n",
       "      <td>44.629637</td>\n",
       "      <td>45.093806</td>\n",
       "      <td>0.526602</td>\n",
       "      <td>1538.093984</td>\n",
       "      <td>11.530172</td>\n",
       "      <td>...</td>\n",
       "      <td>250.587653</td>\n",
       "      <td>440.505968</td>\n",
       "      <td>538.931620</td>\n",
       "      <td>566.716695</td>\n",
       "      <td>560.959010</td>\n",
       "      <td>215.328125</td>\n",
       "      <td>156.983568</td>\n",
       "      <td>165.307997</td>\n",
       "      <td>383.083282</td>\n",
       "      <td>NaN</td>\n",
       "    </tr>\n",
       "    <tr>\n",
       "      <th>2022-07-12 18:00:00</th>\n",
       "      <td>2.628759</td>\n",
       "      <td>85857.157812</td>\n",
       "      <td>222.715051</td>\n",
       "      <td>95.203128</td>\n",
       "      <td>91.514933</td>\n",
       "      <td>44.330754</td>\n",
       "      <td>45.782974</td>\n",
       "      <td>0.524177</td>\n",
       "      <td>1546.052551</td>\n",
       "      <td>11.532650</td>\n",
       "      <td>...</td>\n",
       "      <td>250.611409</td>\n",
       "      <td>441.216563</td>\n",
       "      <td>540.031896</td>\n",
       "      <td>566.879217</td>\n",
       "      <td>564.456746</td>\n",
       "      <td>215.571429</td>\n",
       "      <td>157.486252</td>\n",
       "      <td>165.622659</td>\n",
       "      <td>383.683426</td>\n",
       "      <td>NaN</td>\n",
       "    </tr>\n",
       "  </tbody>\n",
       "</table>\n",
       "<p>5 rows × 31 columns</p>\n",
       "</div>"
      ],
      "text/plain": [
       "                     T8.PACOL2.6AIC-401A Augusta  T8.PACOL2.6FI-401_B Augusta   \n",
       "Date                                                                            \n",
       "2022-07-12 14:00:00                     2.739422                 85632.125000  \\\n",
       "2022-07-12 15:00:00                     2.607891                 85454.463281   \n",
       "2022-07-12 16:00:00                     2.659282                 85484.073568   \n",
       "2022-07-12 17:00:00                     2.604060                 85336.023438   \n",
       "2022-07-12 18:00:00                     2.628759                 85857.157812   \n",
       "\n",
       "                     T8.PACOL2.6FI-407 Augusta  T8.PACOL2.6FI-446 Augusta   \n",
       "Date                                                                        \n",
       "2022-07-12 14:00:00                 220.880366                  95.187503  \\\n",
       "2022-07-12 15:00:00                 213.071790                  94.743753   \n",
       "2022-07-12 16:00:00                 214.526460                  95.290628   \n",
       "2022-07-12 17:00:00                 215.838437                  95.006254   \n",
       "2022-07-12 18:00:00                 222.715051                  95.203128   \n",
       "\n",
       "                     T8.PACOL2.6FI-474 Augusta  T8.PACOL2.6FI-475 Augusta   \n",
       "Date                                                                        \n",
       "2022-07-12 14:00:00                  90.742218                  44.075012  \\\n",
       "2022-07-12 15:00:00                  90.920882                  43.954382   \n",
       "2022-07-12 16:00:00                  90.985808                  44.337600   \n",
       "2022-07-12 17:00:00                  91.075963                  44.629637   \n",
       "2022-07-12 18:00:00                  91.514933                  44.330754   \n",
       "\n",
       "                     T8.PACOL2.6FI-476 Augusta  T8.PACOL2.6FI-491 Augusta   \n",
       "Date                                                                        \n",
       "2022-07-12 14:00:00                  46.286004                   0.524952  \\\n",
       "2022-07-12 15:00:00                  45.732431                   0.523591   \n",
       "2022-07-12 16:00:00                  45.424198                   0.530554   \n",
       "2022-07-12 17:00:00                  45.093806                   0.526602   \n",
       "2022-07-12 18:00:00                  45.782974                   0.524177   \n",
       "\n",
       "                     T8.PACOL2.6FIC-120_52 Augusta   \n",
       "Date                                                 \n",
       "2022-07-12 14:00:00                    1541.251790  \\\n",
       "2022-07-12 15:00:00                    1539.987704   \n",
       "2022-07-12 16:00:00                    1534.177673   \n",
       "2022-07-12 17:00:00                    1538.093984   \n",
       "2022-07-12 18:00:00                    1546.052551   \n",
       "\n",
       "                     T8.PACOL2.6FIC-1402 Augusta  ...   \n",
       "Date                                              ...   \n",
       "2022-07-12 14:00:00                    11.613620  ...  \\\n",
       "2022-07-12 15:00:00                    11.568958  ...   \n",
       "2022-07-12 16:00:00                    11.529332  ...   \n",
       "2022-07-12 17:00:00                    11.530172  ...   \n",
       "2022-07-12 18:00:00                    11.532650  ...   \n",
       "\n",
       "                     T8.PACOL2.6TI-400_14 Augusta   \n",
       "Date                                                \n",
       "2022-07-12 14:00:00                    250.562645  \\\n",
       "2022-07-12 15:00:00                    250.546570   \n",
       "2022-07-12 16:00:00                    250.512634   \n",
       "2022-07-12 17:00:00                    250.587653   \n",
       "2022-07-12 18:00:00                    250.611409   \n",
       "\n",
       "                     T8.PACOL2.6TI-400_6 Augusta   \n",
       "Date                                               \n",
       "2022-07-12 14:00:00                   439.816223  \\\n",
       "2022-07-12 15:00:00                   439.901649   \n",
       "2022-07-12 16:00:00                   440.117992   \n",
       "2022-07-12 17:00:00                   440.505968   \n",
       "2022-07-12 18:00:00                   441.216563   \n",
       "\n",
       "                     T8.PACOL2.6TI-400_72 Augusta   \n",
       "Date                                                \n",
       "2022-07-12 14:00:00                    537.321838  \\\n",
       "2022-07-12 15:00:00                    538.375510   \n",
       "2022-07-12 16:00:00                    539.478633   \n",
       "2022-07-12 17:00:00                    538.931620   \n",
       "2022-07-12 18:00:00                    540.031896   \n",
       "\n",
       "                     T8.PACOL2.6TI-400_74 Augusta   \n",
       "Date                                                \n",
       "2022-07-12 14:00:00                    565.478882  \\\n",
       "2022-07-12 15:00:00                    565.317477   \n",
       "2022-07-12 16:00:00                    566.597905   \n",
       "2022-07-12 17:00:00                    566.716695   \n",
       "2022-07-12 18:00:00                    566.879217   \n",
       "\n",
       "                     T8.PACOL2.6TI-400_75 Augusta  T8.PACOL2.6TI-473 Augusta   \n",
       "Date                                                                           \n",
       "2022-07-12 14:00:00                    561.590393                 211.265625  \\\n",
       "2022-07-12 15:00:00                    561.082325                 215.290179   \n",
       "2022-07-12 16:00:00                    561.030899                 215.316964   \n",
       "2022-07-12 17:00:00                    560.959010                 215.328125   \n",
       "2022-07-12 18:00:00                    564.456746                 215.571429   \n",
       "\n",
       "                     T8.PACOL2.6TI-483 Augusta  T8.PACOL2.6TI-491 Augusta   \n",
       "Date                                                                        \n",
       "2022-07-12 14:00:00                 158.795952                 165.941483  \\\n",
       "2022-07-12 15:00:00                 157.467780                 166.208221   \n",
       "2022-07-12 16:00:00                 157.014258                 165.761443   \n",
       "2022-07-12 17:00:00                 156.983568                 165.307997   \n",
       "2022-07-12 18:00:00                 157.486252                 165.622659   \n",
       "\n",
       "                     T8.PACOL2.6TI-492 Augusta  V406-TOTALI N-OLEFINE Augusta  \n",
       "Date                                                                           \n",
       "2022-07-12 14:00:00                 382.745697                            NaN  \n",
       "2022-07-12 15:00:00                 382.798215                            NaN  \n",
       "2022-07-12 16:00:00                 382.868455                            NaN  \n",
       "2022-07-12 17:00:00                 383.083282                            NaN  \n",
       "2022-07-12 18:00:00                 383.683426                            NaN  \n",
       "\n",
       "[5 rows x 31 columns]"
      ]
     },
     "execution_count": 37,
     "metadata": {},
     "output_type": "execute_result"
    }
   ],
   "source": [
    "df = pd.read_csv('data/pacol2_data.csv', parse_dates=True, index_col=0)\n",
    "df.head()"
   ]
  },
  {
   "cell_type": "code",
   "execution_count": 38,
   "metadata": {},
   "outputs": [],
   "source": [
    "df['V406-TOTALI N-OLEFINE Augusta'] = df['V406-TOTALI N-OLEFINE Augusta'].resample('H').interpolate(method='linear', limit_direction='both')\n",
    "df['T8.PACOL2.6FI-474 Augusta'] = df['T8.PACOL2.6FI-474 Augusta'].resample('H').interpolate(method='linear', limit_direction='both')"
   ]
  },
  {
   "cell_type": "code",
   "execution_count": 40,
   "metadata": {},
   "outputs": [],
   "source": [
    "df.to_csv('data/pacol2_data_imputed.csv')"
   ]
  },
  {
   "cell_type": "code",
   "execution_count": 43,
   "metadata": {},
   "outputs": [
    {
     "data": {
      "text/plain": [
       "Date\n",
       "2022-07-12 14:00:00    785.827608\n",
       "2022-07-12 15:00:00    787.374842\n",
       "2022-07-12 16:00:00    787.937098\n",
       "2022-07-12 17:00:00    788.717843\n",
       "2022-07-12 18:00:00    792.519322\n",
       "                          ...    \n",
       "2023-07-31 19:00:00    505.788627\n",
       "2023-07-31 20:00:00    930.988986\n",
       "2023-07-31 21:00:00    937.933994\n",
       "2023-07-31 22:00:00    932.909180\n",
       "2023-07-31 23:00:00    938.824383\n",
       "Name: amount, Length: 9054, dtype: float64"
      ]
     },
     "execution_count": 43,
     "metadata": {},
     "output_type": "execute_result"
    }
   ],
   "source": [
    "df['amount'] = df['V406-TOTALI N-OLEFINE Augusta'] * df['T8.PACOL2.6FI-474 Augusta']\n",
    "df['amount']"
   ]
  },
  {
   "cell_type": "code",
   "execution_count": 44,
   "metadata": {},
   "outputs": [
    {
     "data": {
      "text/plain": [
       "0.6609758083402237"
      ]
     },
     "execution_count": 44,
     "metadata": {},
     "output_type": "execute_result"
    }
   ],
   "source": [
    "# calculate the correlation between 'T8.PACOL2.6PIC-1401 Augusta' and 'amount'\n",
    "corr = df['T8.PACOL2.6PIC-1401 Augusta'].corr(df['amount'])\n",
    "corr"
   ]
  },
  {
   "cell_type": "code",
   "execution_count": 50,
   "metadata": {},
   "outputs": [
    {
     "data": {
      "application/vnd.plotly.v1+json": {
       "config": {
        "plotlyServerURL": "https://plot.ly"
       },
       "data": [
        {
         "type": "bar",
         "x": [
          "T8.PACOL2.6FIC-1402 Augusta",
          "T8.PACOL2.6FIC-490 Augusta",
          "T8.PACOL2.6FIC-478 Augusta",
          "T8.PACOL2.6FIC-1402_A Augusta",
          "T8.PACOL2.6PIC-1401 Augusta",
          "T8.PACOL2.6FIC-120_52 Augusta"
         ],
         "y": [
          0.6042457961253127,
          0.9506615470724236,
          0.8587085969669255,
          0.27804683875250025,
          0.6609758083402238,
          0.8267200050281062
         ]
        }
       ],
       "layout": {
        "autosize": false,
        "height": 500,
        "template": {
         "data": {
          "bar": [
           {
            "error_x": {
             "color": "#2a3f5f"
            },
            "error_y": {
             "color": "#2a3f5f"
            },
            "marker": {
             "line": {
              "color": "#E5ECF6",
              "width": 0.5
             },
             "pattern": {
              "fillmode": "overlay",
              "size": 10,
              "solidity": 0.2
             }
            },
            "type": "bar"
           }
          ],
          "barpolar": [
           {
            "marker": {
             "line": {
              "color": "#E5ECF6",
              "width": 0.5
             },
             "pattern": {
              "fillmode": "overlay",
              "size": 10,
              "solidity": 0.2
             }
            },
            "type": "barpolar"
           }
          ],
          "carpet": [
           {
            "aaxis": {
             "endlinecolor": "#2a3f5f",
             "gridcolor": "white",
             "linecolor": "white",
             "minorgridcolor": "white",
             "startlinecolor": "#2a3f5f"
            },
            "baxis": {
             "endlinecolor": "#2a3f5f",
             "gridcolor": "white",
             "linecolor": "white",
             "minorgridcolor": "white",
             "startlinecolor": "#2a3f5f"
            },
            "type": "carpet"
           }
          ],
          "choropleth": [
           {
            "colorbar": {
             "outlinewidth": 0,
             "ticks": ""
            },
            "type": "choropleth"
           }
          ],
          "contour": [
           {
            "colorbar": {
             "outlinewidth": 0,
             "ticks": ""
            },
            "colorscale": [
             [
              0,
              "#0d0887"
             ],
             [
              0.1111111111111111,
              "#46039f"
             ],
             [
              0.2222222222222222,
              "#7201a8"
             ],
             [
              0.3333333333333333,
              "#9c179e"
             ],
             [
              0.4444444444444444,
              "#bd3786"
             ],
             [
              0.5555555555555556,
              "#d8576b"
             ],
             [
              0.6666666666666666,
              "#ed7953"
             ],
             [
              0.7777777777777778,
              "#fb9f3a"
             ],
             [
              0.8888888888888888,
              "#fdca26"
             ],
             [
              1,
              "#f0f921"
             ]
            ],
            "type": "contour"
           }
          ],
          "contourcarpet": [
           {
            "colorbar": {
             "outlinewidth": 0,
             "ticks": ""
            },
            "type": "contourcarpet"
           }
          ],
          "heatmap": [
           {
            "colorbar": {
             "outlinewidth": 0,
             "ticks": ""
            },
            "colorscale": [
             [
              0,
              "#0d0887"
             ],
             [
              0.1111111111111111,
              "#46039f"
             ],
             [
              0.2222222222222222,
              "#7201a8"
             ],
             [
              0.3333333333333333,
              "#9c179e"
             ],
             [
              0.4444444444444444,
              "#bd3786"
             ],
             [
              0.5555555555555556,
              "#d8576b"
             ],
             [
              0.6666666666666666,
              "#ed7953"
             ],
             [
              0.7777777777777778,
              "#fb9f3a"
             ],
             [
              0.8888888888888888,
              "#fdca26"
             ],
             [
              1,
              "#f0f921"
             ]
            ],
            "type": "heatmap"
           }
          ],
          "heatmapgl": [
           {
            "colorbar": {
             "outlinewidth": 0,
             "ticks": ""
            },
            "colorscale": [
             [
              0,
              "#0d0887"
             ],
             [
              0.1111111111111111,
              "#46039f"
             ],
             [
              0.2222222222222222,
              "#7201a8"
             ],
             [
              0.3333333333333333,
              "#9c179e"
             ],
             [
              0.4444444444444444,
              "#bd3786"
             ],
             [
              0.5555555555555556,
              "#d8576b"
             ],
             [
              0.6666666666666666,
              "#ed7953"
             ],
             [
              0.7777777777777778,
              "#fb9f3a"
             ],
             [
              0.8888888888888888,
              "#fdca26"
             ],
             [
              1,
              "#f0f921"
             ]
            ],
            "type": "heatmapgl"
           }
          ],
          "histogram": [
           {
            "marker": {
             "pattern": {
              "fillmode": "overlay",
              "size": 10,
              "solidity": 0.2
             }
            },
            "type": "histogram"
           }
          ],
          "histogram2d": [
           {
            "colorbar": {
             "outlinewidth": 0,
             "ticks": ""
            },
            "colorscale": [
             [
              0,
              "#0d0887"
             ],
             [
              0.1111111111111111,
              "#46039f"
             ],
             [
              0.2222222222222222,
              "#7201a8"
             ],
             [
              0.3333333333333333,
              "#9c179e"
             ],
             [
              0.4444444444444444,
              "#bd3786"
             ],
             [
              0.5555555555555556,
              "#d8576b"
             ],
             [
              0.6666666666666666,
              "#ed7953"
             ],
             [
              0.7777777777777778,
              "#fb9f3a"
             ],
             [
              0.8888888888888888,
              "#fdca26"
             ],
             [
              1,
              "#f0f921"
             ]
            ],
            "type": "histogram2d"
           }
          ],
          "histogram2dcontour": [
           {
            "colorbar": {
             "outlinewidth": 0,
             "ticks": ""
            },
            "colorscale": [
             [
              0,
              "#0d0887"
             ],
             [
              0.1111111111111111,
              "#46039f"
             ],
             [
              0.2222222222222222,
              "#7201a8"
             ],
             [
              0.3333333333333333,
              "#9c179e"
             ],
             [
              0.4444444444444444,
              "#bd3786"
             ],
             [
              0.5555555555555556,
              "#d8576b"
             ],
             [
              0.6666666666666666,
              "#ed7953"
             ],
             [
              0.7777777777777778,
              "#fb9f3a"
             ],
             [
              0.8888888888888888,
              "#fdca26"
             ],
             [
              1,
              "#f0f921"
             ]
            ],
            "type": "histogram2dcontour"
           }
          ],
          "mesh3d": [
           {
            "colorbar": {
             "outlinewidth": 0,
             "ticks": ""
            },
            "type": "mesh3d"
           }
          ],
          "parcoords": [
           {
            "line": {
             "colorbar": {
              "outlinewidth": 0,
              "ticks": ""
             }
            },
            "type": "parcoords"
           }
          ],
          "pie": [
           {
            "automargin": true,
            "type": "pie"
           }
          ],
          "scatter": [
           {
            "fillpattern": {
             "fillmode": "overlay",
             "size": 10,
             "solidity": 0.2
            },
            "type": "scatter"
           }
          ],
          "scatter3d": [
           {
            "line": {
             "colorbar": {
              "outlinewidth": 0,
              "ticks": ""
             }
            },
            "marker": {
             "colorbar": {
              "outlinewidth": 0,
              "ticks": ""
             }
            },
            "type": "scatter3d"
           }
          ],
          "scattercarpet": [
           {
            "marker": {
             "colorbar": {
              "outlinewidth": 0,
              "ticks": ""
             }
            },
            "type": "scattercarpet"
           }
          ],
          "scattergeo": [
           {
            "marker": {
             "colorbar": {
              "outlinewidth": 0,
              "ticks": ""
             }
            },
            "type": "scattergeo"
           }
          ],
          "scattergl": [
           {
            "marker": {
             "colorbar": {
              "outlinewidth": 0,
              "ticks": ""
             }
            },
            "type": "scattergl"
           }
          ],
          "scattermapbox": [
           {
            "marker": {
             "colorbar": {
              "outlinewidth": 0,
              "ticks": ""
             }
            },
            "type": "scattermapbox"
           }
          ],
          "scatterpolar": [
           {
            "marker": {
             "colorbar": {
              "outlinewidth": 0,
              "ticks": ""
             }
            },
            "type": "scatterpolar"
           }
          ],
          "scatterpolargl": [
           {
            "marker": {
             "colorbar": {
              "outlinewidth": 0,
              "ticks": ""
             }
            },
            "type": "scatterpolargl"
           }
          ],
          "scatterternary": [
           {
            "marker": {
             "colorbar": {
              "outlinewidth": 0,
              "ticks": ""
             }
            },
            "type": "scatterternary"
           }
          ],
          "surface": [
           {
            "colorbar": {
             "outlinewidth": 0,
             "ticks": ""
            },
            "colorscale": [
             [
              0,
              "#0d0887"
             ],
             [
              0.1111111111111111,
              "#46039f"
             ],
             [
              0.2222222222222222,
              "#7201a8"
             ],
             [
              0.3333333333333333,
              "#9c179e"
             ],
             [
              0.4444444444444444,
              "#bd3786"
             ],
             [
              0.5555555555555556,
              "#d8576b"
             ],
             [
              0.6666666666666666,
              "#ed7953"
             ],
             [
              0.7777777777777778,
              "#fb9f3a"
             ],
             [
              0.8888888888888888,
              "#fdca26"
             ],
             [
              1,
              "#f0f921"
             ]
            ],
            "type": "surface"
           }
          ],
          "table": [
           {
            "cells": {
             "fill": {
              "color": "#EBF0F8"
             },
             "line": {
              "color": "white"
             }
            },
            "header": {
             "fill": {
              "color": "#C8D4E3"
             },
             "line": {
              "color": "white"
             }
            },
            "type": "table"
           }
          ]
         },
         "layout": {
          "annotationdefaults": {
           "arrowcolor": "#2a3f5f",
           "arrowhead": 0,
           "arrowwidth": 1
          },
          "autotypenumbers": "strict",
          "coloraxis": {
           "colorbar": {
            "outlinewidth": 0,
            "ticks": ""
           }
          },
          "colorscale": {
           "diverging": [
            [
             0,
             "#8e0152"
            ],
            [
             0.1,
             "#c51b7d"
            ],
            [
             0.2,
             "#de77ae"
            ],
            [
             0.3,
             "#f1b6da"
            ],
            [
             0.4,
             "#fde0ef"
            ],
            [
             0.5,
             "#f7f7f7"
            ],
            [
             0.6,
             "#e6f5d0"
            ],
            [
             0.7,
             "#b8e186"
            ],
            [
             0.8,
             "#7fbc41"
            ],
            [
             0.9,
             "#4d9221"
            ],
            [
             1,
             "#276419"
            ]
           ],
           "sequential": [
            [
             0,
             "#0d0887"
            ],
            [
             0.1111111111111111,
             "#46039f"
            ],
            [
             0.2222222222222222,
             "#7201a8"
            ],
            [
             0.3333333333333333,
             "#9c179e"
            ],
            [
             0.4444444444444444,
             "#bd3786"
            ],
            [
             0.5555555555555556,
             "#d8576b"
            ],
            [
             0.6666666666666666,
             "#ed7953"
            ],
            [
             0.7777777777777778,
             "#fb9f3a"
            ],
            [
             0.8888888888888888,
             "#fdca26"
            ],
            [
             1,
             "#f0f921"
            ]
           ],
           "sequentialminus": [
            [
             0,
             "#0d0887"
            ],
            [
             0.1111111111111111,
             "#46039f"
            ],
            [
             0.2222222222222222,
             "#7201a8"
            ],
            [
             0.3333333333333333,
             "#9c179e"
            ],
            [
             0.4444444444444444,
             "#bd3786"
            ],
            [
             0.5555555555555556,
             "#d8576b"
            ],
            [
             0.6666666666666666,
             "#ed7953"
            ],
            [
             0.7777777777777778,
             "#fb9f3a"
            ],
            [
             0.8888888888888888,
             "#fdca26"
            ],
            [
             1,
             "#f0f921"
            ]
           ]
          },
          "colorway": [
           "#636efa",
           "#EF553B",
           "#00cc96",
           "#ab63fa",
           "#FFA15A",
           "#19d3f3",
           "#FF6692",
           "#B6E880",
           "#FF97FF",
           "#FECB52"
          ],
          "font": {
           "color": "#2a3f5f"
          },
          "geo": {
           "bgcolor": "white",
           "lakecolor": "white",
           "landcolor": "#E5ECF6",
           "showlakes": true,
           "showland": true,
           "subunitcolor": "white"
          },
          "hoverlabel": {
           "align": "left"
          },
          "hovermode": "closest",
          "mapbox": {
           "style": "light"
          },
          "paper_bgcolor": "white",
          "plot_bgcolor": "#E5ECF6",
          "polar": {
           "angularaxis": {
            "gridcolor": "white",
            "linecolor": "white",
            "ticks": ""
           },
           "bgcolor": "#E5ECF6",
           "radialaxis": {
            "gridcolor": "white",
            "linecolor": "white",
            "ticks": ""
           }
          },
          "scene": {
           "xaxis": {
            "backgroundcolor": "#E5ECF6",
            "gridcolor": "white",
            "gridwidth": 2,
            "linecolor": "white",
            "showbackground": true,
            "ticks": "",
            "zerolinecolor": "white"
           },
           "yaxis": {
            "backgroundcolor": "#E5ECF6",
            "gridcolor": "white",
            "gridwidth": 2,
            "linecolor": "white",
            "showbackground": true,
            "ticks": "",
            "zerolinecolor": "white"
           },
           "zaxis": {
            "backgroundcolor": "#E5ECF6",
            "gridcolor": "white",
            "gridwidth": 2,
            "linecolor": "white",
            "showbackground": true,
            "ticks": "",
            "zerolinecolor": "white"
           }
          },
          "shapedefaults": {
           "line": {
            "color": "#2a3f5f"
           }
          },
          "ternary": {
           "aaxis": {
            "gridcolor": "white",
            "linecolor": "white",
            "ticks": ""
           },
           "baxis": {
            "gridcolor": "white",
            "linecolor": "white",
            "ticks": ""
           },
           "bgcolor": "#E5ECF6",
           "caxis": {
            "gridcolor": "white",
            "linecolor": "white",
            "ticks": ""
           }
          },
          "title": {
           "x": 0.05
          },
          "xaxis": {
           "automargin": true,
           "gridcolor": "white",
           "linecolor": "white",
           "ticks": "",
           "title": {
            "standoff": 15
           },
           "zerolinecolor": "white",
           "zerolinewidth": 2
          },
          "yaxis": {
           "automargin": true,
           "gridcolor": "white",
           "linecolor": "white",
           "ticks": "",
           "title": {
            "standoff": 15
           },
           "zerolinecolor": "white",
           "zerolinewidth": 2
          }
         }
        },
        "title": {
         "text": "Correlation between amount and cvs"
        },
        "width": 800,
        "xaxis": {
         "title": {
          "text": "cvs"
         }
        },
        "yaxis": {
         "title": {
          "text": "Correlation"
         }
        }
       }
      }
     },
     "metadata": {},
     "output_type": "display_data"
    }
   ],
   "source": [
    "# calculate the correlation between 'amount' and all cvs columns\n",
    "corr_list = []\n",
    "for cv in cvs:\n",
    "    corr_list.append(df['amount'].corr(df[cv]))\n",
    "# plot the correlation using plotly\n",
    "fig = go.Figure()\n",
    "fig.add_trace(go.Bar(x=cvs, y=corr_list))\n",
    "fig.update_layout(title='Correlation between amount and cvs', xaxis_title='cvs', yaxis_title='Correlation')\n",
    "# set the size of the figure\n",
    "fig.update_layout(\n",
    "    autosize=False,\n",
    "    width=800,\n",
    "    height=500,\n",
    ")\n",
    "fig.show()\n",
    "fig.write_html(\"data/cvs_amount_corr.html\")"
   ]
  }
 ],
 "metadata": {
  "kernelspec": {
   "display_name": "SQLTool",
   "language": "python",
   "name": "python3"
  },
  "language_info": {
   "codemirror_mode": {
    "name": "ipython",
    "version": 3
   },
   "file_extension": ".py",
   "mimetype": "text/x-python",
   "name": "python",
   "nbconvert_exporter": "python",
   "pygments_lexer": "ipython3",
   "version": "3.11.2"
  },
  "orig_nbformat": 4
 },
 "nbformat": 4,
 "nbformat_minor": 2
}
